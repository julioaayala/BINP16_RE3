{
 "cells": [
  {
   "cell_type": "markdown",
<<<<<<< HEAD
   "metadata": {
    "id": "_FNpjw5s4Xao"
   },
   "source": [
    "# Running Exercise 3: Solving the Anastasia Romanov mystery\n",
    "#### Ayala, J.; Vizitiu, M.; Öncel, P.\n",
    "#### Lund University, BINP16: Programming in Python (Created on: 27-10-2020)"
   ]
  },
  {
   "cell_type": "markdown",
   "metadata": {
    "id": "HCZfTY_u4Xar"
   },
   "source": [
    "## Introduction"
=======
   "metadata": {},
   "source": [
    "# Running Exercise 3: Solving the Anastasia Romanov mystery\n",
    "### Lund University, BINP16: Programming in Python\n",
    "### Julio Ayala, Pinar Öncel, Mara Vizitiu\n"
>>>>>>> c27b5378873ee0a8e76031557a02f44e56917326
   ]
  },
  {
   "cell_type": "markdown",
   "metadata": {},
   "source": [
<<<<<<< HEAD
    "We are a team of researchers at Lund University, studying the genetic evidence regarding the House of Romanov, the reigning imperial house of Russia from 1613 to 1917, until the time when all members of the family were executed during the uprising of the Bolshevik revolution. The bodies of the Romanovs and their close relatives were discovered some ten years later by an amateur archaeologist. DNA evidence was collected from each one, as well as several other people who are involved in this sordid tale.\n",
    "\n",
    "We are tasked with analyzing all of the DNA evidence, and derive a conclusion about Anastasia Romanov, the youngest daughter of Tsar Nicholas II. Whether Anastasia Romanov is still alive, and if so, whether she is one of the women claiming to be her, or the discovered remains of Anastasia is actually the deceased princess herself.\n"
=======
    "## Introduction"
>>>>>>> c27b5378873ee0a8e76031557a02f44e56917326
   ]
  },
  {
   "cell_type": "markdown",
   "metadata": {
    "id": "ULENHCeeYs9l"
   },
   "source": [
<<<<<<< HEAD
    "## Methodology"
   ]
  },
  {
   "cell_type": "markdown",
   "metadata": {
    "id": "aO0vFGd64Xba"
   },
   "source": [
    "### Part I: Calculate all sequence combinations identity and raw scores."
=======
    "## Functions"
>>>>>>> c27b5378873ee0a8e76031557a02f44e56917326
   ]
  },
  {
   "cell_type": "markdown",
   "metadata": {},
   "source": [
<<<<<<< HEAD
    "We began our analysis by looking at the collected DNA samples and performing multiple sequence alignments. We received two sets of DNA data to work with: (1) mtdna_orig.fasta: sequences of mitochondrial DNA that were used to establish maternal relationship between the samples, and (2) y_chromosome_orig.fasta: sequences of Y chromosome that were used to establish paternal relationship between the samples."
   ]
  },
  {
   "cell_type": "markdown",
   "metadata": {},
   "source": [
    "First, we include the necessary modules and relative paths"
=======
    "### Part 1"
>>>>>>> c27b5378873ee0a8e76031557a02f44e56917326
   ]
  },
  {
   "cell_type": "code",
   "execution_count": 1,
   "metadata": {
<<<<<<< HEAD
    "id": "WUBlyMPD4XbY"
   },
   "outputs": [],
   "source": [
    "import os\n",
    "from scipy.cluster.hierarchy import dendrogram, linkage\n",
    "from matplotlib import pyplot as plt\n",
    "\n",
    "base_path = os.getcwd() + '/'\n",
    "\n",
    "weights_file = os.path.join(base_path, \"data/weights.txt\")\n",
    "mtdna_fasta = os.path.join(base_path, \"data/mtdna_orig.fasta\")\n",
    "ychr_fasta = os.path.join(base_path, \"data/y_chromosome_orig.fasta\")\n",
    "mtdna_scores_file = os.path.join(base_path, \"results/MSAmtdna.txt\")\n",
    "ychr_scores_file = os.path.join(base_path, \"results/MSAYchr.txt\")\n",
    "mtdna_id_matrix_file = os.path.join(base_path, \"results/output_id_mtdna.txt\")\n",
    "ychr_id_matrix_file = os.path.join(base_path, \"results/output_id_ychr.txt\")\n",
    "mtdna_score_matrix_file = os.path.join(base_path, \"results/output_score_mtdna.txt\")\n",
    "ychr_score_matrix_file = os.path.join(base_path, \"results/output_score_ychr.txt\")"
   ]
  },
  {
   "cell_type": "code",
   "execution_count": 2,
   "metadata": {},
   "outputs": [],
   "source": [
    "mtdna_contents = ''\n",
    "with open(mtdna_fasta, 'r') as mtdna_file:\n",
    "    mtdna_contents = mtdna_file.read()\n",
    "ychr_contents = ''\n",
    "with open(ychr_fasta, 'r') as ychr_file:\n",
    "    ychr_contents = ychr_file.read()"
   ]
  },
  {
   "cell_type": "markdown",
   "metadata": {},
   "source": [
    "We started by looking at the DNA samples in a pairwise fashion, calculating the identity and alignment scores for each aligned pair. At this step, our script contained two user-defined functions: (1)  score_alignment_identity(): a function that calculates the identity and alignment scores for a given pair of sequences (2) fasta_to_dict(): a function that converts a fasta file into a dictionary where the sequence IDs are stored as keys and the sequences are stored as values. The identity and alignment scores for each of the sequence pairs in the dictionary were written out two output files: (1) MSAmtdna.txt: containing the scores for the mitochondrial DNA samples  (2) MSAYchr.txt: containing the scores for the Y chromosomal samples.\n"
   ]
  },
  {
   "cell_type": "code",
   "execution_count": 3,
   "metadata": {
    "id": "evCe7a6h4Xa-"
   },
   "outputs": [],
   "source": [
    "def fasta_to_dict(fasta_file):\n",
    "    '''\n",
    "    this is a function to convert a fasta file into a dictionary\n",
    "    Arguments : fasta_file : file with fasta sequences, where the header delimiter is a tab\n",
    "    Returns : dictionary with sequence IDs as keys, and sequences as values\n",
    "    '''\n",
    "    sequences = {} # set up an empty dictionary to store sequence ID and sequence\n",
    "\n",
    "    # how to retrieve sequences from the fasta file\n",
    "    with open(fasta_file, 'r') as fasta:\n",
    "        for line in fasta:\n",
    "            if line.startswith('>'): # get ID and sequence and add to dictionary\n",
    "                header = line.strip()[1:]\n",
    "                sequences[header] = next(fasta).upper().strip()\n",
    "    return sequences"
   ]
  },
  {
   "cell_type": "code",
   "execution_count": 4,
   "metadata": {
    "id": "zvoesRKRYmxu",
=======
    "colab": {
     "base_uri": "https://localhost:8080/",
     "height": 215
    },
    "executionInfo": {
     "elapsed": 562,
     "status": "error",
     "timestamp": 1603640107440,
     "user": {
      "displayName": "Julio Antonio Ayala Lopez",
      "photoUrl": "",
      "userId": "10086215581367170890"
     },
     "user_tz": -60
    },
    "id": "zvoesRKRYmxu",
    "outputId": "b45a2f0e-eebc-4ce0-94bc-50844fa1c89c",
>>>>>>> c27b5378873ee0a8e76031557a02f44e56917326
    "scrolled": true
   },
   "outputs": [],
   "source": [
    "def score_alignment_identity(seq_1, seq_2, weights):\n",
<<<<<<< HEAD
    "    '''\n",
    "    this is a function to score an alignment of a pair of sequences\n",
    "    Arguments :  seq_1, seq_2 (str) : two aligned sequences including gaps\n",
    "                 weights (dict) : scores for reference\n",
    "    Returns : identity and alignment scores (tuple)\n",
    "    '''\n",
    "    nucleotides = ['A', 'T', 'G', 'C', '?', '-']      # list of all nucleotides\n",
    "    purines = ['A', 'G']                              # list of purine nucleotides\n",
    "    pyrimidines = ['T', 'C']                          # list of pyrimidine nucleotides\n",
    "\n",
    "    score = 0                                         # variable to store score\n",
    "    identical = 0                                     # variable to store identical nucleotides\n",
    "\n",
    "    # how to calculate pairwise alignment score\n",
    "    for i in range(len(seq_1)):\n",
    "        if (seq_1[i] == seq_2[i]):                    # when they are same\n",
    "            if (seq_1[i] == '-' or seq_1[i] == '?'):  # when they are gaps\n",
    "                pass\n",
    "            else:                                     # when its a match\n",
    "                score += weights['match']\n",
    "                identical += 1\n",
    "        elif (seq_1[i] in purines and seq_2[i] in purines) or (seq_1[i] in pyrimidines and seq_2[i] in pyrimidines):\n",
    "            score += weights['transition']            # when its a transition\n",
    "        elif (seq_1[i] == '-' or seq_2[i] == '-'):    # when theres a gap\n",
    "            score += weights['gap']\n",
    "        elif (seq_1[i] == '?' or seq_2[i] == '?'):    # when one is unknown\n",
    "            pass\n",
    "        else:                                         # when its a transversion\n",
    "            score += weights['transversion']\n",
    "    # how to calculate pairwise identity score\n",
    "    identity = round(100 * identical / len(seq_1), 1) # divide nr of identical by length\n",
    "    return identity, score                            # return score and identity as a tuple"
   ]
  },
  {
   "cell_type": "code",
   "execution_count": 5,
   "metadata": {
    "id": "lgOTP1Zp4Xbb",
    "outputId": "9778b559-a9ce-41f2-cc0c-14302dad9b89"
   },
   "outputs": [
    {
     "name": "stdout",
     "output_type": "stream",
     "text": [
      "{'match': 1, 'transition': -1, 'transversion': -2, 'gap': -1}\n"
     ]
    }
   ],
   "source": [
    "# Dictionary for weights file\n",
    "weights = {}  # set up an empty dictionary to store weight type and value\n",
    "with open(weights_file, 'r') as weight_file: # Open a weights file and\n",
    "    for line in weight_file:\n",
    "        line = line.split()\n",
    "        weights[line[0]] = int(line[1]) # add weight type and values to dictionary\n",
    "print(weights)"
   ]
  },
  {
   "cell_type": "code",
   "execution_count": 6,
   "metadata": {
    "id": "mNzGVCHB4Xbg"
   },
   "outputs": [],
   "source": [
    "# Converting fasta files to dictionaries\n",
    "fasta_dict_mtdna = fasta_to_dict(mtdna_fasta)\n",
    "fasta_dict_ychr = fasta_to_dict(ychr_fasta)"
   ]
  },
  {
   "cell_type": "markdown",
   "metadata": {
    "id": "1BHK5ogj4Xbn"
   },
   "source": [
    "#### Calculating scores\n",
    "Once both files are in a dictionary format, the identity and scores are calculated for all pairs of sequences, and written to a file."
   ]
  },
  {
   "cell_type": "code",
   "execution_count": 7,
   "metadata": {
    "id": "ZQL-jkMi4Xbn"
   },
   "outputs": [],
   "source": [
    "# mtDNA file\n",
    "with open(mtdna_scores_file, 'w') as output_file:\n",
    "    output_file.write('SmpA\\tSmpB\\tId_s\\tAl_s\\n')               # write out header row\n",
    "    for i, (key_1, seq_1) in enumerate(fasta_dict_mtdna.items()):     # get ID and seq from dictionary\n",
    "        for j, (key_2, seq_2) in enumerate(fasta_dict_mtdna.items()): # get ID and seq from dictionary\n",
    "            if i < j:                                           # compare two non-repeating sequences\n",
    "                iden, score_seq = score_alignment_identity(seq_1, seq_2, weights) # get identity and alignment scores\n",
    "                output_file.write('{}\\t{}\\t{}%\\t{}\\n'.format(key_1, key_2, iden, score_seq)) # write out data\n",
    "# Y chromosome file\n",
    "with open(ychr_scores_file, 'w') as output_file:\n",
    "    output_file.write('SmpA\\tSmpB\\tId_s\\tAl_s\\n')               # write out header row\n",
    "    for i, (key_1, seq_1) in enumerate(fasta_dict_ychr.items()):     # get ID and seq from dictionary\n",
    "        for j, (key_2, seq_2) in enumerate(fasta_dict_ychr.items()): # get ID and seq from dictionary\n",
    "            if i < j:                                           # compare two non-repeating sequences\n",
    "                iden, score_seq = score_alignment_identity(seq_1, seq_2, weights) # get identity and alignment scores\n",
    "                output_file.write('{}\\t{}\\t{}%\\t{}\\n'.format(key_1, key_2, iden, score_seq)) # write out data"
   ]
  },
  {
   "cell_type": "markdown",
   "metadata": {
    "id": "IFTCaEub4Xbp"
   },
   "source": [
    "### Part 2: Generating similarity matrices"
   ]
  },
  {
   "cell_type": "markdown",
   "metadata": {
    "id": "jl_6bEq15RJh"
   },
   "source": [
    "The second part of our analysis consists of building similarity matrices based on pairwise alignment scores and percentages of identity between all of the DNA sequences involved. These scores were obtained during the first part of the analysis and stored in two .txt files: MSAmtdna.txt and MSAYchr.txt, containing the results for the alignment of the mtDNA fragments and the Y chromosome fragments respectively.\n",
    "\n",
    "We designed a Python script capable of using the previously mentioned input files in order to write files containing scoring matrices for both the alignment scores and the identity percentages.  The identity percentages are kept as they are in the matrices as a result of the fact that they range between 0- 100% and are easy to interpret. The alignment scores were normalized and converted to values ranging from 0 to 100, where 100 is the normalized score for the highest scoring alignment of sequences. "
   ]
  },
  {
   "cell_type": "markdown",
   "metadata": {},
   "source": [
    "This part of the analysis consisted of the following steps:"
=======
    "    '''Function to score an alignment of two sequences\n",
    "    Arguments:  seq_1, seq_2 (str): sequences, including gaps.\n",
    "                weights (dict): scores for each case.\n",
    "    Returns: score and identity of the alignment (tuple)\n",
    "    '''\n",
    "    nucleotides = ['A', 'T', 'G', 'C', '?', '-'] # list of all nucleotides\n",
    "    purines = ['A', 'G']                        # list of purine nucleotides\n",
    "    pyrimidines = ['T', 'C']                    # list of pyrimidine nucleotides\n",
    "\n",
    "    score = 0 #Variable to store the score\n",
    "    identical = 0 #Variable to store the identical nucleotides\n",
    "    for i in range(len(seq_1)):\n",
    "        # Add to the score given the different cases\n",
    "        if (seq_1[i] == seq_2[i]):\n",
    "            if (seq_1[i] == '-' or seq_1[i] == '?'): #When both are gaps, exclude\n",
    "                pass\n",
    "            else:\n",
    "                score += weights['match']\n",
    "                identical += 1\n",
    "        elif (seq_1[i] in purines and seq_2[i] in purines) or (seq_1[i] in pyrimidines and seq_2[i] in pyrimidines):\n",
    "            score += weights['transition']\n",
    "        elif (seq_1[i] == '-' or seq_2[i] == '-'):\n",
    "            score += weights['gap']\n",
    "        elif (seq_1[i] == '?' or seq_2[i] == '?'): #When one of the nucleotides is\n",
    "            pass\n",
    "        else:\n",
    "            score += weights['transversion']\n",
    "\n",
    "    identity = round(100 * identical / len(seq_1), 1) # Calculate the identity by dividing identical/length\n",
    "    return identity, score # Return score and identity as a tuple"
   ]
  },
  {
   "cell_type": "code",
   "execution_count": 2,
   "metadata": {},
   "outputs": [],
   "source": [
    "def fasta_to_dict(fasta_file):\n",
    "    '''Function to convert a fasta file into a dictionary\n",
    "    Arguments: fasta_file, file with fasta sequences, where the header delimiter is >\n",
    "    Returns: dictionary with ids as keys, and sequences as values\n",
    "    '''\n",
    "    sequences = {}\n",
    "    # Retrieve sequences from the fasta file\n",
    "    with open(fasta_file, 'r') as fasta:\n",
    "        for line in fasta:\n",
    "            if line.startswith('>'): # Get the id from the header and add it to sequence dict\n",
    "                header = line.strip()[1:]\n",
    "                sequences[header] = next(fasta).upper().strip()\n",
    "    return sequences"
>>>>>>> c27b5378873ee0a8e76031557a02f44e56917326
   ]
  },
  {
   "cell_type": "markdown",
   "metadata": {},
   "source": [
<<<<<<< HEAD
    "1. Defining a function that converts the data in the input file (i. e. scores and percentages of identity of pairwise sequence alignments) into similarity matrices in the form of nested dictionaries. The keys of the main dictionary consist of the IDs of all of the DNA sequences analyzed. Nested dictionaries are assigned as values to these keys and contain the IDs of the sequences being compared to the key of the main dictionary, as well as the scores of the comparisons.\n",
    "The main dictionary is redundant, in the sense that it contains each pairwise alignment twice, but this was done in order to generate a full matrix, where all of the sequence IDs are present both in the header row, as well as in the first column of the matrix.\n",
    "2. Inside this same function, the alignment scores are normalized in order for the resulting matrices to become easier to interpret. The way this conversion is achieved is by adding the absolute value of the lowest alignment score to all of the scores (the lowest score now becomes equal to 0) and then dividing all scores by the highest value. By multiplying all normalized scores by 100, this generates a range of alignment scores from 0 to 100, where 100 is assigned to the highest scoring sequences. The diagonal of the matrix (i. e. where sequences are compared against themselves) is scored arbitrarily with 100.\n"
=======
    "### Part 2"
>>>>>>> c27b5378873ee0a8e76031557a02f44e56917326
   ]
  },
  {
   "cell_type": "code",
<<<<<<< HEAD
   "execution_count": 8,
=======
   "execution_count": 3,
>>>>>>> c27b5378873ee0a8e76031557a02f44e56917326
   "metadata": {},
   "outputs": [],
   "source": [
    "def msa_to_dict(input_file):    #Function that stores data from the input file into a nested dictionary\n",
    "    msa_matrix_identity = {}    #Matrix (dictionary of dictionaries) of identity percentages\n",
    "    msa_matrix_score = {}       #Matrix (dictionary of dictionaries) of alignment scores\n",
    "    list_of_scores = []         #List of all the alignment scores\n",
    "    with open(input_file, 'r') as msa_file: #Read the input file\n",
    "        header = next(msa_file) #Read the header (we do not need the information in the header)\n",
    "        for line in msa_file:   #Read every line in the input file\n",
    "            line = line.rstrip().split('\\t') # Split the line by its columns and remove new line character\n",
    "            if line[0] not in msa_matrix_identity: # If the ID does not exist in the dictionary\n",
    "                msa_matrix_identity[line[0]] = {line[0]: '100'} #Add it with an identity percentage of 100 (when sequence is compared against itself)\n",
    "                msa_matrix_score[line[0]] = {line[0]: '-'} #Add it without a score (\"-\") (when compared against itself)\n",
    "#We add the IDs in the second column of each line to the same dictionary so that the output will be a full, symmetrical matrix. The steps are identical to the ones above\n",
    "            if line[1] not in msa_matrix_identity: \n",
    "                msa_matrix_identity[line[1]] = {line[1]: '100'}\n",
    "                msa_matrix_score[line[1]] = {line[1]: '-'}\n",
    "# The identity percentages and the alignment scores are then added to the corresponding dictionaries of dictionaries as values in the nested dictionaries\n",
    "            msa_matrix_identity[line[0]][line[1]] = line[2].replace('%', '')\n",
    "            msa_matrix_identity[line[1]][line[0]] = line[2].replace('%', '')\n",
    "            msa_matrix_score[line[0]][line[1]] = line[3]\n",
    "            msa_matrix_score[line[1]][line[0]] = line[3]\n",
    "            list_of_scores.append(int(line[3])) #Add the alignment scores to a list\n",
    "#Normalizing the values of the alignment scores to add them to the matrix\n",
    "    min_val = min(list_of_scores)   #Find the smallest alignment score\n",
    "    max_val = max(list_of_scores)   #Find the largest alignment score\n",
    "    for key1 in msa_matrix_score:   #Iterate through all the sequence IDs\n",
    "        for key2 in msa_matrix_score[key1]: #Iterate through all the nested dictionaries\n",
    "            if msa_matrix_score[key1][key2] != '-': #If a sequence is not compared with itself\n",
    "                current_value = float(msa_matrix_score[key1][key2]) #Normalize the score value...\n",
    "                msa_matrix_score[key1][key2] = round(100*(current_value + abs(min_val))/(max_val + abs(min_val)), 1)    #...by adding the absolute value of the smallest score to all scores and then dividing by the largest value. The result is multiplied by 100 to be easier to read as a percentage\n",
    "            else:   #When the sequence is compared with itself\n",
    "                msa_matrix_score[key1][key2] = 100  #Set the alignment score to 100\n",
    "    return msa_matrix_identity, msa_matrix_score"
   ]
  },
  {
<<<<<<< HEAD
   "cell_type": "markdown",
   "metadata": {},
   "source": [
    "3. Another function was defined, that prints the resulting matrices to separate output files (one for normalized scores and one for percentage of identity), in the desired format. The sequence IDs and the values in the matrix are tab separated; two matrices are generated for every input file. A third function was created to get the most similar sequence to a specific name (Though it's not used in this report)"
   ]
  },
  {
   "cell_type": "code",
   "execution_count": 9,
   "metadata": {
    "id": "9Foz-5VQ4XbL"
   },
=======
   "cell_type": "code",
   "execution_count": 4,
   "metadata": {},
>>>>>>> c27b5378873ee0a8e76031557a02f44e56917326
   "outputs": [],
   "source": [
    "def make_matrix_file(msa_matrix, output_file):\n",
    "#Function that writes the matrices to the output files\n",
    "    with open(output_file, 'w') as output_matrix:   #Open the output file for writing\n",
    "        header = sorted(msa_matrix.keys())  #The first line consists of all the sequence IDs (sorted)\n",
    "        header_str = '\\t' + '\\t'.join(header)   #Separate the IDs by tab in the header\n",
    "        output_matrix.write(header_str + '\\n')  #Write the header to the output file\n",
    "        for key1 in sorted(msa_matrix.keys()):  #Iterate through all the sorted sequence IDs\n",
    "            output_matrix.write(key1)           #Write one ID at a time to the output file\n",
    "            for key2 in sorted(msa_matrix[key1]):\n",
    "                output_matrix.write('\\t' + str(msa_matrix[key1][key2])) #Followed by all of the alignment scores between that ID and the other ones, separated by tab\n",
    "            output_matrix.write('\\n')           #Add a new line"
   ]
  },
  {
   "cell_type": "code",
<<<<<<< HEAD
   "execution_count": 10,
   "metadata": {
    "id": "vSkfXWmL4XbP"
   },
=======
   "execution_count": 5,
   "metadata": {},
>>>>>>> c27b5378873ee0a8e76031557a02f44e56917326
   "outputs": [],
   "source": [
    "def get_most_similar(msa_dict, name):           #Function for finding the most similar sequence to a specific sequence\n",
    "    max_value = 0                               #Variable that stores the value of the largest alignment score\n",
    "    max_key = ''                                #Variable that stores the sequence ID corresponding to the largest alignment score\n",
    "    for key in msa_dict[name].keys():           #Iterate through all the sequence IDs\n",
    "        if key != name:                         #Exclude the case of a sequence being compared with itself\n",
    "            if float(msa_dict[name][key]) > max_value:  #If an alignment score is larger than the current largest one being stored in the variable\n",
    "                max_value = float(msa_dict[name][key])  #Store the new score as the largest\n",
    "                max_key = key                   #Store the corresponding sequence ID\n",
    "    return max_key, max_value"
   ]
  },
  {
   "cell_type": "markdown",
   "metadata": {},
   "source": [
<<<<<<< HEAD
    "4. For the purpose of our analysis, all functions are called twice, once for the mtDNA alignments, and once for the Y chromosome alignments, resulting in four total scoring matrices."
=======
    "### Part 3"
>>>>>>> c27b5378873ee0a8e76031557a02f44e56917326
   ]
  },
  {
   "cell_type": "code",
<<<<<<< HEAD
   "execution_count": 11,
   "metadata": {
    "id": "hpTQkesV4Xbq"
   },
   "outputs": [],
   "source": [
    "identity_mtdna, score_mtdna = msa_to_dict(mtdna_scores_file)  #Calling the function for the input file; two matrices are returned\n",
    "identity_ychr, score_ychr = msa_to_dict(ychr_scores_file)"
   ]
  },
  {
   "cell_type": "code",
   "execution_count": 12,
   "metadata": {
    "id": "6G-I0qo94Xbr"
   },
   "outputs": [],
   "source": [
    "make_matrix_file(identity_mtdna, mtdna_id_matrix_file)         #Write the percentage identity matrix to one output file by calling the proper function\n",
    "make_matrix_file(score_mtdna, mtdna_score_matrix_file)            #Write the normalized score matrix to another output file by calling the proper function\n",
    "make_matrix_file(identity_ychr, ychr_id_matrix_file)\n",
    "make_matrix_file(score_ychr, ychr_score_matrix_file)"
   ]
  },
  {
   "cell_type": "markdown",
   "metadata": {
    "id": "b1sxmOSX4Xbt"
   },
   "source": [
    "### Part 3: Building the hierarchical clusters and dendograms"
   ]
  },
  {
   "cell_type": "markdown",
   "metadata": {},
   "source": [
    "Once we created the similarity matrix, we built  hierarchical clusters using the linkage function from  the scipy.cluster.hierarchy module. This function performs agglomerative clustering given a 2d array of observations. In this case, each vector would be the list of normalized or identity scores. A function would parse the matrix file, separating the data from the labels (i.e. the sequence ids), and then apply the linkage function. We used default settings for the linkage function, using the ‘single’ method (Nearest point algorithm) and euclidean metric. Our function receives a path, and returns the labels and the clustering arrays."
   ]
  },
  {
   "cell_type": "code",
   "execution_count": 13,
   "metadata": {
    "id": "P_3LWv8E4XbT"
   },
=======
   "execution_count": 6,
   "metadata": {},
>>>>>>> c27b5378873ee0a8e76031557a02f44e56917326
   "outputs": [],
   "source": [
    "def create_clusters(input_file, cluster_method = 'single'):\n",
    "    '''\n",
    "    Function to create a hierarchical cluster, given a matrix file. Returns an\n",
    "    array with the relationships between sequences.\n",
    "    Arguments:\n",
    "        input_file: Similarity matrix in a tab delimited file.\n",
    "        cluster_method: Method used for the linkage function.\n",
    "    Returns:\n",
    "        clusters: Array with the scores of relationships among sequences.\n",
    "        labels: List of labels of the matrix file.\n",
    "    '''\n",
    "    #Initializing variables for the parsing of the file.\n",
    "    data = []\n",
    "    labels = []\n",
    "    with open(input_file, 'r') as matrix_file:\n",
    "        header = next(matrix_file)\n",
    "        for line in matrix_file:\n",
    "            line = line.strip().split()\n",
    "            labels.append(line[0])  # first column is added to the labels\n",
    "            row = []\n",
    "            for i in range(1, len(line)):\n",
    "                row.append(float(line[i]))  #The rest of columns are converted to float and added to the data\n",
    "            data.append(row)\n",
    "    # The linkage function is used to create the hierarchical cluster of the given data.\n",
    "    clusters = linkage(data, method = cluster_method)\n",
    "    return clusters, labels"
   ]
  },
  {
   "cell_type": "markdown",
   "metadata": {},
   "source": [
<<<<<<< HEAD
    "Then, this function is called 4 times, for the identity and normalized scores of the mtDNA and Y chromosomes respectively"
=======
    "## Execution"
   ]
  },
  {
   "cell_type": "markdown",
   "metadata": {},
   "source": [
    "Importing modules and setting relative paths to files "
>>>>>>> c27b5378873ee0a8e76031557a02f44e56917326
   ]
  },
  {
   "cell_type": "code",
<<<<<<< HEAD
   "execution_count": 14,
   "metadata": {
    "id": "uwPs57RC4Xbt"
   },
   "outputs": [],
   "source": [
    "# Build the clusters for all 4 matrix files\n",
    "clusters_id_ychr, labels_id_ychr = create_clusters(ychr_id_matrix_file, 'single')\n",
    "clusters_score_ychr, labels_score_ychr = create_clusters(ychr_score_matrix_file, 'single')\n",
    "clusters_id_mtdna, labels_id_mtdna = create_clusters(mtdna_id_matrix_file, 'single')\n",
    "clusters_score_mtdna, labels_score_mtdna = create_clusters(mtdna_score_matrix_file, 'single')"
=======
   "execution_count": 7,
   "metadata": {},
   "outputs": [],
   "source": [
    "import os\n",
    "from scipy.cluster.hierarchy import dendrogram, linkage\n",
    "from matplotlib import pyplot as plt\n",
    "\n",
    "base_path = os.getcwd() + '/'\n",
    "\n",
    "mtdna_fasta = os.path.join(base_path, \"data/mtdna_orig.fasta\")\n",
    "ychr_fasta = os.path.join(base_path, \"data/y_chromosome_orig.fasta\")\n",
    "mtdna_scores_file = os.path.join(base_path, \"results/MSAmtdna.txt\")\n",
    "ychr_scores_file = os.path.join(base_path, \"results/MSAYchr.txt\")\n",
    "mtdna_id_matrix_file = os.path.join(base_path, \"results/output_id_mtdna.txt\")\n",
    "ychr_id_matrix_file = os.path.join(base_path, \"results/output_id_ychr.txt\")\n",
    "mtdna_score_matrix_file = os.path.join(base_path, \"results/output_score_mtdna.txt\")\n",
    "ychr_score_matrix_file = os.path.join(base_path, \"results/output_score_ychr.txt\")"
>>>>>>> c27b5378873ee0a8e76031557a02f44e56917326
   ]
  },
  {
   "cell_type": "markdown",
   "metadata": {},
   "source": [
<<<<<<< HEAD
    "Finally, we plotted the clusters for each case using the dendrogram function. In the original script, all dendrograms are added as subplots of one figure. However, this report includes them as individual plots for readability purposes. "
=======
    "### Part I: Calculate all sequence combinations identity and raw scores."
>>>>>>> c27b5378873ee0a8e76031557a02f44e56917326
   ]
  },
  {
   "cell_type": "code",
<<<<<<< HEAD
   "execution_count": 15,
   "metadata": {
    "id": "iDKjrZLk4Xbw",
    "outputId": "bf3279a6-a574-47c5-cd58-2e0a56dd7435"
   },
   "outputs": [
    {
     "data": {
      "image/png": "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\n",
      "text/plain": [
       "<Figure size 432x288 with 1 Axes>"
      ]
     },
     "metadata": {
      "needs_background": "light"
     },
     "output_type": "display_data"
    }
   ],
   "source": [
    "# Create dendogram for the Y Chromosome identity matrix\n",
    "plt.title('Fig. 1: Y Chromosome identity dendrogram')\n",
    "dendrogram(clusters_id_ychr\n",
    "           , labels = labels_id_ychr\n",
    "           , orientation = 'left') # Setting orientation of the labels/tree\n",
    "\n",
    "plt.show() # Plotting the figure"
=======
   "execution_count": 8,
   "metadata": {},
   "outputs": [
    {
     "name": "stdout",
     "output_type": "stream",
     "text": [
      "{'match': 1, 'transition': -1, 'transversion': -2, 'gap': -1}\n"
     ]
    }
   ],
   "source": [
    "# Dictionary for weights file\n",
    "weights = {}\n",
    "with open(os.path.join(base_path, \"data/weights.txt\"), 'r') as weight_file: # Open a weights file and\n",
    "    for line in weight_file:\n",
    "        line = line.split()\n",
    "        weights[line[0]] = int(line[1])\n",
    "print(weights)"
   ]
  },
  {
   "cell_type": "markdown",
   "metadata": {},
   "source": [
    "#### Parsing the sequence files"
>>>>>>> c27b5378873ee0a8e76031557a02f44e56917326
   ]
  },
  {
   "cell_type": "code",
<<<<<<< HEAD
   "execution_count": 16,
   "metadata": {
    "id": "C925YUsS4Xby",
    "outputId": "9965e36b-a5ab-4768-d973-9e84a197b375"
   },
   "outputs": [
    {
     "data": {
      "image/png": "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\n",
      "text/plain": [
       "<Figure size 432x288 with 1 Axes>"
      ]
     },
     "metadata": {
      "needs_background": "light"
     },
     "output_type": "display_data"
    }
   ],
   "source": [
    "# Create dendogram for the Y Chromosome scoring matrix\n",
    "plt.title('Fig. 2: Y Chromosome score dendrogram')\n",
    "dendrogram(clusters_score_ychr\n",
    "           , labels = labels_score_ychr\n",
    "           , orientation = 'left')\n",
    "plt.show()"
=======
   "execution_count": 9,
   "metadata": {},
   "outputs": [],
   "source": [
    "# Converting fasta files to dictionaries\n",
    "fasta_dict_mtdna = fasta_to_dict(mtdna_fasta)\n",
    "fasta_dict_ychr = fasta_to_dict(ychr_fasta)"
>>>>>>> c27b5378873ee0a8e76031557a02f44e56917326
   ]
  },
  {
   "cell_type": "code",
<<<<<<< HEAD
   "execution_count": 17,
   "metadata": {
    "id": "FU4jAeQQ4Xb0",
    "outputId": "819136fb-c58e-4a58-bdc7-439fdd4097ef"
   },
   "outputs": [
    {
     "data": {
      "image/png": "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\n",
      "text/plain": [
       "<Figure size 432x288 with 1 Axes>"
      ]
     },
     "metadata": {
      "needs_background": "light"
     },
     "output_type": "display_data"
    }
   ],
   "source": [
    "# Create dendogram for the mtDNA identity matrix\n",
    "plt.title('Fig. 3: mtDNA identity dendrogram')\n",
    "dendrogram(clusters_id_mtdna\n",
    "            , labels = labels_id_mtdna\n",
    "            , orientation = 'left')\n",
    "plt.show()"
=======
   "execution_count": 10,
   "metadata": {},
   "outputs": [
    {
     "data": {
      "text/plain": [
       "{'Princess_Irene': 'ACC??TAGCTAGCTAGCATAGCTAGC',\n",
       " 'Prince_Fred': 'AGGGAT??CTAGCTAGCATAGCTAGC',\n",
       " 'Nicholas_II_Romanov': '-----GGGG-----AAA---------',\n",
       " 'Alexandra_Romanov': 'AC---A----A---AGCA---?TA?C',\n",
       " 'Olga_Romanov': 'AGGG???---AGCTA--ATAG?TAGC',\n",
       " 'Tatiana_Romanov': 'AGG-------A------------AGC',\n",
       " 'Maria_Romanov': 'ACC--TAGCT???TAGCAT?GCT---',\n",
       " 'Alexei_Romanov': 'ACC???AGCTAGCT----TAGCTTTT',\n",
       " 'Suspected_Anastasia': '??CAGAGACTCTC???CAAAGCTAGC',\n",
       " 'Anastasia1': 'ACTGTACGCCA??TAAGCA?G??A?C',\n",
       " 'Anastasia2': 'AGGG???GCT???TA????AGGGGAC',\n",
       " 'Anastasia3': 'ACC???AGC????GGGCATA??AATT',\n",
       " 'Anastasia4_son': 'AACAGAGACTAAA???CAAAGCTAGC',\n",
       " 'Anastasia5': '???AGAGACT??CTCTCAAAGCT---',\n",
       " \"Farmer's_grandson\": 'ACCAA??GCTAA?TAGCAT-GCT--G',\n",
       " 'Grigori_Rasputin': 'AAAAAGGGGGGGGGCCCCCTATATAT'}"
      ]
     },
     "execution_count": 10,
     "metadata": {},
     "output_type": "execute_result"
    }
   ],
   "source": [
    "fasta_dict_mtdna"
>>>>>>> c27b5378873ee0a8e76031557a02f44e56917326
   ]
  },
  {
   "cell_type": "code",
<<<<<<< HEAD
   "execution_count": 18,
   "metadata": {
    "id": "hJf-wrgD4Xb2",
    "outputId": "59d80a09-b255-4022-a525-9d8a84fd90a9"
=======
   "execution_count": 11,
   "metadata": {
    "scrolled": true
>>>>>>> c27b5378873ee0a8e76031557a02f44e56917326
   },
   "outputs": [
    {
     "data": {
<<<<<<< HEAD
      "image/png": "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\n",
      "text/plain": [
       "<Figure size 432x288 with 1 Axes>"
      ]
     },
     "metadata": {
      "needs_background": "light"
     },
     "output_type": "display_data"
    }
   ],
   "source": [
    "# Create dendogram for the mtDNA scoring matrix\n",
    "plt.title('Fig. 4: mtDNA score dendrogram')\n",
    "dendrogram(clusters_score_mtdna\n",
    "            , labels = labels_score_mtdna\n",
    "            , orientation = 'left')\n",
    "plt.show()"
=======
      "text/plain": [
       "{'Prince_Fred_Y': 'AGCCTAGCTCGCGCGCGCATATAGCTAGACTAGCATCGAGAGAGAGAG',\n",
       " 'Nicolhas_II_Romanov_Y': 'AAAA-----------AAAA--------------GGGGG-----TTT--',\n",
       " 'Alexei_Romanov_Y': 'AAAA---GAT-CCC-AACA-CGGG-----CGC-GGGGG---CGT----',\n",
       " 'Anastasia4_son_Y': 'AGCGCATATACGATCGATCAGCTGCATCGACTAGCATCGATACGATCG',\n",
       " 'Farmer’s_grandson_Y': '?????TATACGCGAAACGATCAGCATGGGTATAGCGCGCTAAGCAT??',\n",
       " 'Grigori_Rasputin_Y': 'ATATATATACGCGCTACGATCAGCATATATATAGCGCGCTAAGCATCG'}"
      ]
     },
     "execution_count": 11,
     "metadata": {},
     "output_type": "execute_result"
    }
   ],
   "source": [
    "fasta_dict_ychr"
>>>>>>> c27b5378873ee0a8e76031557a02f44e56917326
   ]
  },
  {
   "cell_type": "markdown",
<<<<<<< HEAD
   "metadata": {
    "id": "x4YAo2Ak4Xb4"
   },
   "source": [
    "## Analysis"
=======
   "metadata": {},
   "source": [
    "#### Calculating scores\n",
    "Once both files are in a dictionary format, the identity and scores are calculated for all pairs of sequences, and written to a file."
   ]
  },
  {
   "cell_type": "code",
   "execution_count": 12,
   "metadata": {},
   "outputs": [],
   "source": [
    "# mtDNA file\n",
    "with open(mtdna_scores_file, 'w') as output_file:\n",
    "    output_file.write('SmpA\\tSmpB\\tId_s\\tAl_s\\n')\n",
    "    for i, (key_1, seq_1) in enumerate(fasta_dict_mtdna.items()): # Get and index, and items from dict.\n",
    "        for j, (key_2, seq_2) in enumerate(fasta_dict_mtdna.items()):\n",
    "            if i < j: # Compare with non-repeating sequences\n",
    "                # Calculate scores and add to file\n",
    "                iden, score_seq = score_alignment_identity(seq_1, seq_2, weights)\n",
    "                output_file.writelines('{}\\t{}\\t{}%\\t{}\\n'.format(key_1, key_2, iden, score_seq))\n",
    "# Y chromosome file\n",
    "with open(ychr_scores_file, 'w') as output_file:\n",
    "    output_file.write('SmpA\\tSmpB\\tId_s\\tAl_s\\n')\n",
    "    for i, (key_1, seq_1) in enumerate(fasta_dict_ychr.items()): # Get and index, and items from dict.\n",
    "        for j, (key_2, seq_2) in enumerate(fasta_dict_ychr.items()):\n",
    "            if i < j: # Compare with non-repeating sequences\n",
    "                # Calculate scores and add to file\n",
    "                iden, score_seq = score_alignment_identity(seq_1, seq_2, weights)\n",
    "                output_file.writelines('{}\\t{}\\t{}%\\t{}\\n'.format(key_1, key_2, iden, score_seq))"
>>>>>>> c27b5378873ee0a8e76031557a02f44e56917326
   ]
  },
  {
   "cell_type": "markdown",
   "metadata": {},
   "source": [
<<<<<<< HEAD
    "The analysis of the Y chromosome sequences reveals that the farmer’s grandson is very closely related paternally to Grigori Rasputin, the two sequences having an identity percentage of 75% and being by far the most similar sequences in the Y chromosome analysis. The testimonies take note of the grandson’s and Rasputin’s close physical resemblance. Moreover, the farmer’s daughter appears to be extremely distressed when Rasputin’s name is mentioned. Therefore, we conclude that Grigori Rasputin is in fact the father of the farmer’s grandson.\n"
=======
    "### Part 2: Generating similarity matrices"
>>>>>>> c27b5378873ee0a8e76031557a02f44e56917326
   ]
  },
  {
   "cell_type": "code",
<<<<<<< HEAD
   "execution_count": 19,
   "metadata": {
    "scrolled": true
   },
   "outputs": [
    {
     "data": {
      "text/plain": [
       "('Grigori_Rasputin_Y', 75.0)"
      ]
     },
     "execution_count": 19,
     "metadata": {},
     "output_type": "execute_result"
    }
   ],
   "source": [
    "get_most_similar(identity_ychr, \"Farmer’s_grandson_Y\")"
   ]
  },
  {
   "cell_type": "markdown",
   "metadata": {},
   "source": [
    "The analysis of the mitochondrial DNA alignments and the corresponding dendrogram showed a strong degree of similarity between Anastasia 4’s son and the suspected body of Anastasia Romanov, as shown in fig. 3 and 4. Provided that the real Anastasia Romanov is still alive, the suspected body does not belong to her. More research needs to be done, but our results tend to suggest that Anastasia 4 planted evidence that would be closely related to her son (perhaps even her own DNA, in which case her reticence to provide a DNA sample can be explained) to bias the analysis towards proving that she is the real Anastasia Romanov.\n"
=======
   "execution_count": 13,
   "metadata": {},
   "outputs": [],
   "source": [
    "identity_mtdna, score_mtdna = msa_to_dict(mtdna_scores_file)  #Calling the function for the input file; two matrices are returned\n",
    "identity_ychr, score_ychr = msa_to_dict(ychr_scores_file)"
   ]
  },
  {
   "cell_type": "code",
   "execution_count": 14,
   "metadata": {},
   "outputs": [],
   "source": [
    "make_matrix_file(identity_mtdna, mtdna_id_matrix_file)         #Write the percentage identity matrix to one output file by calling the proper function\n",
    "make_matrix_file(score_mtdna, mtdna_score_matrix_file)            #Write the normalized score matrix to another output file by calling the proper function\n",
    "make_matrix_file(identity_ychr, ychr_id_matrix_file)\n",
    "make_matrix_file(score_ychr, ychr_score_matrix_file)\n"
   ]
  },
  {
   "cell_type": "markdown",
   "metadata": {},
   "source": [
    "### Part 3: Building the hierarchical clusters and dendograms"
   ]
  },
  {
   "cell_type": "code",
   "execution_count": 15,
   "metadata": {},
   "outputs": [],
   "source": [
    "# Build the clusters for all 4 matrix files\n",
    "clusters_id_ychr, labels_id_ychr = create_clusters(ychr_id_matrix_file, 'single')\n",
    "clusters_score_ychr, labels_score_ychr = create_clusters(ychr_score_matrix_file, 'single')\n",
    "clusters_id_mtdna, labels_id_mtdna = create_clusters(mtdna_id_matrix_file, 'single')\n",
    "clusters_score_mtdna, labels_score_mtdna = create_clusters(mtdna_score_matrix_file, 'single')"
   ]
  },
  {
   "cell_type": "code",
   "execution_count": 16,
   "metadata": {},
   "outputs": [
    {
     "data": {
      "image/png": "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\n",
      "text/plain": [
       "<Figure size 432x288 with 1 Axes>"
      ]
     },
     "metadata": {
      "needs_background": "light"
     },
     "output_type": "display_data"
    }
   ],
   "source": [
    "# Create dendogram for the Y Chromosome identity matrix\n",
    "plt.title('Y Chromosome identity')\n",
    "dendrogram(clusters_id_ychr\n",
    "           , labels=labels_id_ychr\n",
    "           , orientation = 'left') # Setting orientation of the labels/tree\n",
    "\n",
    "plt.show() # Plotting the figure"
>>>>>>> c27b5378873ee0a8e76031557a02f44e56917326
   ]
  },
  {
   "cell_type": "code",
<<<<<<< HEAD
   "execution_count": 20,
   "metadata": {
    "scrolled": true
   },
   "outputs": [
    {
     "data": {
      "text/plain": [
       "('Suspected_Anastasia', 69.2)"
      ]
     },
     "execution_count": 20,
     "metadata": {},
     "output_type": "execute_result"
    }
   ],
   "source": [
    "get_most_similar(identity_mtdna, \"Anastasia4_son\")"
   ]
  },
  {
   "cell_type": "markdown",
   "metadata": {},
   "source": [
    "It is also worth noting that the resulting dendrograms contain multiple false positive and negative results. For instance, Nicholas II Romanov and his son, Alexei, appear to not be closely related based on the Y chromosome analysis. It is extremely likely that this is the case because of the poor quality of some of the DNA sequences."
=======
   "execution_count": 17,
   "metadata": {},
   "outputs": [
    {
     "data": {
      "image/png": "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\n",
      "text/plain": [
       "<Figure size 432x288 with 1 Axes>"
      ]
     },
     "metadata": {
      "needs_background": "light"
     },
     "output_type": "display_data"
    }
   ],
   "source": [
    "# Create dendogram for the Y Chromosome scoring matrix\n",
    "plt.title('Y Chromosome score')\n",
    "dendrogram(clusters_score_ychr\n",
    "           , labels=labels_score_ychr\n",
    "           , orientation = 'left')\n",
    "plt.show()"
   ]
  },
  {
   "cell_type": "code",
   "execution_count": 18,
   "metadata": {},
   "outputs": [
    {
     "data": {
      "image/png": "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\n",
      "text/plain": [
       "<Figure size 432x288 with 1 Axes>"
      ]
     },
     "metadata": {
      "needs_background": "light"
     },
     "output_type": "display_data"
    }
   ],
   "source": [
    "# Create dendogram for the mtDNA identity matrix\n",
    "plt.title('mtDNA identity')\n",
    "dendrogram(clusters_id_mtdna\n",
    "            , labels=labels_id_mtdna\n",
    "            , orientation = 'left')\n",
    "plt.show()"
>>>>>>> c27b5378873ee0a8e76031557a02f44e56917326
   ]
  },
  {
   "cell_type": "code",
<<<<<<< HEAD
   "execution_count": 21,
   "metadata": {
    "scrolled": true
   },
   "outputs": [
    {
     "name": "stdout",
     "output_type": "stream",
     "text": [
      "Nicholas_II_Romanov\n",
      " -----GGGG-----AAA---------\n",
      "Alexei_Romanov\n",
      " ACC???AGCTAGCT----TAGCTTTT\n"
     ]
    }
   ],
   "source": [
    "print('Nicholas_II_Romanov\\n', fasta_dict_mtdna['Nicholas_II_Romanov'])\n",
    "print('Alexei_Romanov\\n', fasta_dict_mtdna['Alexei_Romanov'])"
=======
   "execution_count": 19,
   "metadata": {},
   "outputs": [
    {
     "data": {
      "image/png": "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\n",
      "text/plain": [
       "<Figure size 432x288 with 1 Axes>"
      ]
     },
     "metadata": {
      "needs_background": "light"
     },
     "output_type": "display_data"
    }
   ],
   "source": [
    "# Create dendogram for the mtDNA scoring matrix\n",
    "plt.title('mtDNA score')\n",
    "dendrogram(clusters_score_mtdna\n",
    "            , labels=labels_score_mtdna\n",
    "            , orientation = 'left')\n",
    "plt.show()"
>>>>>>> c27b5378873ee0a8e76031557a02f44e56917326
   ]
  },
  {
   "cell_type": "markdown",
   "metadata": {},
   "source": [
<<<<<<< HEAD
    "The highlight of our analysis is represented by our conclusions regarding the fate of the real Anastasia Romanov. Our mtDNA dendrograms reveal the positioning of the farmer’s grandson in the same cluster as members of the royal family (fig. 3 and fig. 4). Most notably, the farmer’s grandson is closely related to good quality mtDNA samples (i.e. those of Princess Irene and Prince Fred); due to the poor quality of the samples prelevated from the deceased royal family members, false positive and false negative results are common. Considering that the farmer’s grandson is maternally related to the royal family, we infer that his mother, the farmer’s daughter, is related to the royal family as well. Moreover, our overall conclusion, based on the data that was available to us, is that the farmer’s daughter is in fact the real Anastasia Romanov.\n",
    "\n",
    "To answer the question of what happened to the real Anastasia, the farmer’s testimony reveals that each member of the royal family was shot once in order to be executed. However, one shot is not guaranteed to be fatal and Anastasia was harmed, but not killed. The farmer admits to having been paid to dispose of the bodies, and, because Anastasia was still alive, he took her in and raised her in secret as his own daughter.\n",
    "One challenge that we encountered in formulating our conclusion is the mismatch of the farmer’s daughter age and physical characteristics to those of the supposed real Anastasia Romanov. The farmer’s daughter is 36, older than the real Anastasia is believed to be. Moreover the eye and hair color do not match. These issues were addressed in a plausible manner by Anastasia 5, who mentioned that an explanation for a different age is a mistake in the birth certificate; she also explains the difference in eye and hair color as an aesthetic choice of the painters of the royal family portraits. As a result, we conclude that the farmer’s daughter is the most plausible candidate to be the real Anastasia Romanov.\n"
=======
    "## Analysis"
>>>>>>> c27b5378873ee0a8e76031557a02f44e56917326
   ]
  }
 ],
 "metadata": {
  "colab": {
<<<<<<< HEAD
=======
   "authorship_tag": "ABX9TyM/iXwLacG10xDcn9eYYHXA",
>>>>>>> c27b5378873ee0a8e76031557a02f44e56917326
   "collapsed_sections": [],
   "name": "Running Exercise 3.ipynb",
   "provenance": []
  },
  "kernelspec": {
   "display_name": "Python 3",
   "language": "python",
   "name": "python3"
  },
  "language_info": {
   "codemirror_mode": {
    "name": "ipython",
    "version": 3
   },
   "file_extension": ".py",
   "mimetype": "text/x-python",
   "name": "python",
   "nbconvert_exporter": "python",
   "pygments_lexer": "ipython3",
   "version": "3.8.3"
  }
 },
 "nbformat": 4,
 "nbformat_minor": 1
}
