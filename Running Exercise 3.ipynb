{
 "cells": [
  {
   "cell_type": "markdown",
   "metadata": {},
   "source": [
    "# Running Exercise 3: Solving the Anastasia Romanov mystery\n",
    "### Lund University, BINP16: Programming in Python\n",
    "### Julio Ayala, Pinar Öncel, Mara Vizitiu\n"
   ]
  },
  {
   "cell_type": "markdown",
   "metadata": {},
   "source": [
    "## Introduction"
   ]
  },
  {
   "cell_type": "markdown",
   "metadata": {
    "id": "ULENHCeeYs9l"
   },
   "source": [
    "## Functions"
   ]
  },
  {
   "cell_type": "markdown",
   "metadata": {},
   "source": [
    "### Part 1"
   ]
  },
  {
   "cell_type": "code",
   "execution_count": 1,
   "metadata": {
    "colab": {
     "base_uri": "https://localhost:8080/",
     "height": 215
    },
    "executionInfo": {
     "elapsed": 562,
     "status": "error",
     "timestamp": 1603640107440,
     "user": {
      "displayName": "Julio Antonio Ayala Lopez",
      "photoUrl": "",
      "userId": "10086215581367170890"
     },
     "user_tz": -60
    },
    "id": "zvoesRKRYmxu",
    "outputId": "b45a2f0e-eebc-4ce0-94bc-50844fa1c89c",
    "scrolled": true
   },
   "outputs": [],
   "source": [
    "def score_alignment_identity(seq_1, seq_2, weights):\n",
    "    '''Function to score an alignment of two sequences\n",
    "    Arguments:  seq_1, seq_2 (str): sequences, including gaps.\n",
    "                weights (dict): scores for each case.\n",
    "    Returns: score and identity of the alignment (tuple)\n",
    "    '''\n",
    "    nucleotides = ['A', 'T', 'G', 'C', '?', '-'] # list of all nucleotides\n",
    "    purines = ['A', 'G']                        # list of purine nucleotides\n",
    "    pyrimidines = ['T', 'C']                    # list of pyrimidine nucleotides\n",
    "\n",
    "    score = 0 #Variable to store the score\n",
    "    identical = 0 #Variable to store the identical nucleotides\n",
    "    for i in range(len(seq_1)):\n",
    "        # Add to the score given the different cases\n",
    "        if (seq_1[i] == seq_2[i]):\n",
    "            if (seq_1[i] == '-' or seq_1[i] == '?'): #When both are gaps, exclude\n",
    "                pass\n",
    "            else:\n",
    "                score += weights['match']\n",
    "                identical += 1\n",
    "        elif (seq_1[i] in purines and seq_2[i] in purines) or (seq_1[i] in pyrimidines and seq_2[i] in pyrimidines):\n",
    "            score += weights['transition']\n",
    "        elif (seq_1[i] == '-' or seq_2[i] == '-'):\n",
    "            score += weights['gap']\n",
    "        elif (seq_1[i] == '?' or seq_2[i] == '?'): #When one of the nucleotides is\n",
    "            pass\n",
    "        else:\n",
    "            score += weights['transversion']\n",
    "\n",
    "    identity = round(100 * identical / len(seq_1), 1) # Calculate the identity by dividing identical/length\n",
    "    return identity, score # Return score and identity as a tuple"
   ]
  },
  {
   "cell_type": "code",
   "execution_count": 2,
   "metadata": {},
   "outputs": [],
   "source": [
    "def fasta_to_dict(fasta_file):\n",
    "    '''Function to convert a fasta file into a dictionary\n",
    "    Arguments: fasta_file, file with fasta sequences, where the header delimiter is >\n",
    "    Returns: dictionary with ids as keys, and sequences as values\n",
    "    '''\n",
    "    sequences = {}\n",
    "    # Retrieve sequences from the fasta file\n",
    "    with open(fasta_file, 'r') as fasta:\n",
    "        for line in fasta:\n",
    "            if line.startswith('>'): # Get the id from the header and add it to sequence dict\n",
    "                header = line.strip()[1:]\n",
    "                sequences[header] = next(fasta).upper().strip()\n",
    "    return sequences"
   ]
  },
  {
   "cell_type": "markdown",
   "metadata": {},
   "source": [
    "### Part 2"
   ]
  },
  {
   "cell_type": "code",
   "execution_count": 3,
   "metadata": {},
   "outputs": [],
   "source": [
    "def msa_to_dict(input_file):    #Function that stores data from the input file into a nested dictionary\n",
    "    msa_matrix_identity = {}    #Matrix (dictionary of dictionaries) of identity percentages\n",
    "    msa_matrix_score = {}       #Matrix (dictionary of dictionaries) of alignment scores\n",
    "    list_of_scores = []         #List of all the alignment scores\n",
    "    with open(input_file, 'r') as msa_file: #Read the input file\n",
    "        header = next(msa_file) #Read the header (we do not need the information in the header)\n",
    "        for line in msa_file:   #Read every line in the input file\n",
    "            line = line.rstrip().split('\\t') # Split the line by its columns and remove new line character\n",
    "            if line[0] not in msa_matrix_identity: # If the ID does not exist in the dictionary\n",
    "                msa_matrix_identity[line[0]] = {line[0]: '100'} #Add it with an identity percentage of 100 (when sequence is compared against itself)\n",
    "                msa_matrix_score[line[0]] = {line[0]: '-'} #Add it without a score (\"-\") (when compared against itself)\n",
    "#We add the IDs in the second column of each line to the same dictionary so that the output will be a full, symmetrical matrix. The steps are identical to the ones above\n",
    "            if line[1] not in msa_matrix_identity: \n",
    "                msa_matrix_identity[line[1]] = {line[1]: '100'}\n",
    "                msa_matrix_score[line[1]] = {line[1]: '-'}\n",
    "# The identity percentages and the alignment scores are then added to the corresponding dictionaries of dictionaries as values in the nested dictionaries\n",
    "            msa_matrix_identity[line[0]][line[1]] = line[2].replace('%', '')\n",
    "            msa_matrix_identity[line[1]][line[0]] = line[2].replace('%', '')\n",
    "            msa_matrix_score[line[0]][line[1]] = line[3]\n",
    "            msa_matrix_score[line[1]][line[0]] = line[3]\n",
    "            list_of_scores.append(int(line[3])) #Add the alignment scores to a list\n",
    "#Normalizing the values of the alignment scores to add them to the matrix\n",
    "    min_val = min(list_of_scores)   #Find the smallest alignment score\n",
    "    max_val = max(list_of_scores)   #Find the largest alignment score\n",
    "    for key1 in msa_matrix_score:   #Iterate through all the sequence IDs\n",
    "        for key2 in msa_matrix_score[key1]: #Iterate through all the nested dictionaries\n",
    "            if msa_matrix_score[key1][key2] != '-': #If a sequence is not compared with itself\n",
    "                current_value = float(msa_matrix_score[key1][key2]) #Normalize the score value...\n",
    "                msa_matrix_score[key1][key2] = round(100*(current_value + abs(min_val))/(max_val + abs(min_val)), 1)    #...by adding the absolute value of the smallest score to all scores and then dividing by the largest value. The result is multiplied by 100 to be easier to read as a percentage\n",
    "            else:   #When the sequence is compared with itself\n",
    "                msa_matrix_score[key1][key2] = 100  #Set the alignment score to 100\n",
    "    return msa_matrix_identity, msa_matrix_score"
   ]
  },
  {
   "cell_type": "code",
   "execution_count": 4,
   "metadata": {},
   "outputs": [],
   "source": [
    "def make_matrix_file(msa_matrix, output_file):\n",
    "#Function that writes the matrices to the output files\n",
    "    with open(output_file, 'w') as output_matrix:   #Open the output file for writing\n",
    "        header = sorted(msa_matrix.keys())  #The first line consists of all the sequence IDs (sorted)\n",
    "        header_str = '\\t' + '\\t'.join(header)   #Separate the IDs by tab in the header\n",
    "        output_matrix.write(header_str + '\\n')  #Write the header to the output file\n",
    "        for key1 in sorted(msa_matrix.keys()):  #Iterate through all the sorted sequence IDs\n",
    "            output_matrix.write(key1)           #Write one ID at a time to the output file\n",
    "            for key2 in sorted(msa_matrix[key1]):\n",
    "                output_matrix.write('\\t' + str(msa_matrix[key1][key2])) #Followed by all of the alignment scores between that ID and the other ones, separated by tab\n",
    "            output_matrix.write('\\n')           #Add a new line"
   ]
  },
  {
   "cell_type": "code",
   "execution_count": 5,
   "metadata": {},
   "outputs": [],
   "source": [
    "def get_most_similar(msa_dict, name):           #Function for finding the most similar sequence to a specific sequence\n",
    "    max_value = 0                               #Variable that stores the value of the largest alignment score\n",
    "    max_key = ''                                #Variable that stores the sequence ID corresponding to the largest alignment score\n",
    "    for key in msa_dict[name].keys():           #Iterate through all the sequence IDs\n",
    "        if key != name:                         #Exclude the case of a sequence being compared with itself\n",
    "            if float(msa_dict[name][key]) > max_value:  #If an alignment score is larger than the current largest one being stored in the variable\n",
    "                max_value = float(msa_dict[name][key])  #Store the new score as the largest\n",
    "                max_key = key                   #Store the corresponding sequence ID\n",
    "    return max_key, max_value"
   ]
  },
  {
   "cell_type": "markdown",
   "metadata": {},
   "source": [
    "### Part 3"
   ]
  },
  {
   "cell_type": "code",
   "execution_count": 6,
   "metadata": {},
   "outputs": [],
   "source": [
    "def create_clusters(input_file, cluster_method = 'single'):\n",
    "    '''\n",
    "    Function to create a hierarchical cluster, given a matrix file. Returns an\n",
    "    array with the relationships between sequences.\n",
    "    Arguments:\n",
    "        input_file: Similarity matrix in a tab delimited file.\n",
    "        cluster_method: Method used for the linkage function.\n",
    "    Returns:\n",
    "        clusters: Array with the scores of relationships among sequences.\n",
    "        labels: List of labels of the matrix file.\n",
    "    '''\n",
    "    #Initializing variables for the parsing of the file.\n",
    "    data = []\n",
    "    labels = []\n",
    "    with open(input_file, 'r') as matrix_file:\n",
    "        header = next(matrix_file)\n",
    "        for line in matrix_file:\n",
    "            line = line.strip().split()\n",
    "            labels.append(line[0])  # first column is added to the labels\n",
    "            row = []\n",
    "            for i in range(1, len(line)):\n",
    "                row.append(float(line[i]))  #The rest of columns are converted to float and added to the data\n",
    "            data.append(row)\n",
    "    # The linkage function is used to create the hierarchical cluster of the given data.\n",
    "    clusters = linkage(data, method = cluster_method)\n",
    "    return clusters, labels"
   ]
  },
  {
   "cell_type": "markdown",
   "metadata": {},
   "source": [
    "## Execution"
   ]
  },
  {
   "cell_type": "markdown",
   "metadata": {},
   "source": [
    "Importing modules and setting relative paths to files "
   ]
  },
  {
   "cell_type": "code",
   "execution_count": 7,
   "metadata": {},
   "outputs": [],
   "source": [
    "import os\n",
    "from scipy.cluster.hierarchy import dendrogram, linkage\n",
    "from matplotlib import pyplot as plt\n",
    "\n",
    "base_path = os.getcwd() + '/'\n",
    "\n",
    "mtdna_fasta = os.path.join(base_path, \"data/mtdna_orig.fasta\")\n",
    "ychr_fasta = os.path.join(base_path, \"data/y_chromosome_orig.fasta\")\n",
    "mtdna_scores_file = os.path.join(base_path, \"results/MSAmtdna.txt\")\n",
    "ychr_scores_file = os.path.join(base_path, \"results/MSAYchr.txt\")\n",
    "mtdna_id_matrix_file = os.path.join(base_path, \"results/output_id_mtdna.txt\")\n",
    "ychr_id_matrix_file = os.path.join(base_path, \"results/output_id_ychr.txt\")\n",
    "mtdna_score_matrix_file = os.path.join(base_path, \"results/output_score_mtdna.txt\")\n",
    "ychr_score_matrix_file = os.path.join(base_path, \"results/output_score_ychr.txt\")"
   ]
  },
  {
   "cell_type": "markdown",
   "metadata": {},
   "source": [
    "### Part I: Calculate all sequence combinations identity and raw scores."
   ]
  },
  {
   "cell_type": "code",
   "execution_count": 8,
   "metadata": {},
   "outputs": [
    {
     "name": "stdout",
     "output_type": "stream",
     "text": [
      "{'match': 1, 'transition': -1, 'transversion': -2, 'gap': -1}\n"
     ]
    }
   ],
   "source": [
    "# Dictionary for weights file\n",
    "weights = {}\n",
    "with open(os.path.join(base_path, \"data/weights.txt\"), 'r') as weight_file: # Open a weights file and\n",
    "    for line in weight_file:\n",
    "        line = line.split()\n",
    "        weights[line[0]] = int(line[1])\n",
    "print(weights)"
   ]
  },
  {
   "cell_type": "markdown",
   "metadata": {},
   "source": [
    "#### Parsing the sequence files"
   ]
  },
  {
   "cell_type": "code",
   "execution_count": 9,
   "metadata": {},
   "outputs": [],
   "source": [
    "# Converting fasta files to dictionaries\n",
    "fasta_dict_mtdna = fasta_to_dict(mtdna_fasta)\n",
    "fasta_dict_ychr = fasta_to_dict(ychr_fasta)"
   ]
  },
  {
   "cell_type": "code",
   "execution_count": 10,
   "metadata": {},
   "outputs": [
    {
     "data": {
      "text/plain": [
       "{'Princess_Irene': 'ACC??TAGCTAGCTAGCATAGCTAGC',\n",
       " 'Prince_Fred': 'AGGGAT??CTAGCTAGCATAGCTAGC',\n",
       " 'Nicholas_II_Romanov': '-----GGGG-----AAA---------',\n",
       " 'Alexandra_Romanov': 'AC---A----A---AGCA---?TA?C',\n",
       " 'Olga_Romanov': 'AGGG???---AGCTA--ATAG?TAGC',\n",
       " 'Tatiana_Romanov': 'AGG-------A------------AGC',\n",
       " 'Maria_Romanov': 'ACC--TAGCT???TAGCAT?GCT---',\n",
       " 'Alexei_Romanov': 'ACC???AGCTAGCT----TAGCTTTT',\n",
       " 'Suspected_Anastasia': '??CAGAGACTCTC???CAAAGCTAGC',\n",
       " 'Anastasia1': 'ACTGTACGCCA??TAAGCA?G??A?C',\n",
       " 'Anastasia2': 'AGGG???GCT???TA????AGGGGAC',\n",
       " 'Anastasia3': 'ACC???AGC????GGGCATA??AATT',\n",
       " 'Anastasia4_son': 'AACAGAGACTAAA???CAAAGCTAGC',\n",
       " 'Anastasia5': '???AGAGACT??CTCTCAAAGCT---',\n",
       " \"Farmer's_grandson\": 'ACCAA??GCTAA?TAGCAT-GCT--G',\n",
       " 'Grigori_Rasputin': 'AAAAAGGGGGGGGGCCCCCTATATAT'}"
      ]
     },
     "execution_count": 10,
     "metadata": {},
     "output_type": "execute_result"
    }
   ],
   "source": [
    "fasta_dict_mtdna"
   ]
  },
  {
   "cell_type": "code",
   "execution_count": 11,
   "metadata": {
    "scrolled": true
   },
   "outputs": [
    {
     "data": {
      "text/plain": [
       "{'Prince_Fred_Y': 'AGCCTAGCTCGCGCGCGCATATAGCTAGACTAGCATCGAGAGAGAGAG',\n",
       " 'Nicolhas_II_Romanov_Y': 'AAAA-----------AAAA--------------GGGGG-----TTT--',\n",
       " 'Alexei_Romanov_Y': 'AAAA---GAT-CCC-AACA-CGGG-----CGC-GGGGG---CGT----',\n",
       " 'Anastasia4_son_Y': 'AGCGCATATACGATCGATCAGCTGCATCGACTAGCATCGATACGATCG',\n",
       " 'Farmer’s_grandson_Y': '?????TATACGCGAAACGATCAGCATGGGTATAGCGCGCTAAGCAT??',\n",
       " 'Grigori_Rasputin_Y': 'ATATATATACGCGCTACGATCAGCATATATATAGCGCGCTAAGCATCG'}"
      ]
     },
     "execution_count": 11,
     "metadata": {},
     "output_type": "execute_result"
    }
   ],
   "source": [
    "fasta_dict_ychr"
   ]
  },
  {
   "cell_type": "markdown",
   "metadata": {},
   "source": [
    "#### Calculating scores\n",
    "Once both files are in a dictionary format, the identity and scores are calculated for all pairs of sequences, and written to a file."
   ]
  },
  {
   "cell_type": "code",
   "execution_count": 12,
   "metadata": {},
   "outputs": [],
   "source": [
    "# mtDNA file\n",
    "with open(mtdna_scores_file, 'w') as output_file:\n",
    "    output_file.write('SmpA\\tSmpB\\tId_s\\tAl_s\\n')\n",
    "    for i, (key_1, seq_1) in enumerate(fasta_dict_mtdna.items()): # Get and index, and items from dict.\n",
    "        for j, (key_2, seq_2) in enumerate(fasta_dict_mtdna.items()):\n",
    "            if i < j: # Compare with non-repeating sequences\n",
    "                # Calculate scores and add to file\n",
    "                iden, score_seq = score_alignment_identity(seq_1, seq_2, weights)\n",
    "                output_file.writelines('{}\\t{}\\t{}%\\t{}\\n'.format(key_1, key_2, iden, score_seq))\n",
    "# Y chromosome file\n",
    "with open(ychr_scores_file, 'w') as output_file:\n",
    "    output_file.write('SmpA\\tSmpB\\tId_s\\tAl_s\\n')\n",
    "    for i, (key_1, seq_1) in enumerate(fasta_dict_ychr.items()): # Get and index, and items from dict.\n",
    "        for j, (key_2, seq_2) in enumerate(fasta_dict_ychr.items()):\n",
    "            if i < j: # Compare with non-repeating sequences\n",
    "                # Calculate scores and add to file\n",
    "                iden, score_seq = score_alignment_identity(seq_1, seq_2, weights)\n",
    "                output_file.writelines('{}\\t{}\\t{}%\\t{}\\n'.format(key_1, key_2, iden, score_seq))"
   ]
  },
  {
   "cell_type": "markdown",
   "metadata": {},
   "source": [
    "### Part 2: Generating similarity matrices"
   ]
  },
  {
   "cell_type": "code",
   "execution_count": 13,
   "metadata": {},
   "outputs": [],
   "source": [
    "identity_mtdna, score_mtdna = msa_to_dict(mtdna_scores_file)  #Calling the function for the input file; two matrices are returned\n",
    "identity_ychr, score_ychr = msa_to_dict(ychr_scores_file)"
   ]
  },
  {
   "cell_type": "code",
   "execution_count": 14,
   "metadata": {},
   "outputs": [],
   "source": [
    "make_matrix_file(identity_mtdna, mtdna_id_matrix_file)         #Write the percentage identity matrix to one output file by calling the proper function\n",
    "make_matrix_file(score_mtdna, mtdna_score_matrix_file)            #Write the normalized score matrix to another output file by calling the proper function\n",
    "make_matrix_file(identity_ychr, ychr_id_matrix_file)\n",
    "make_matrix_file(score_ychr, ychr_score_matrix_file)\n"
   ]
  },
  {
   "cell_type": "markdown",
   "metadata": {},
   "source": [
    "### Part 3: Building the hierarchical clusters and dendograms"
   ]
  },
  {
   "cell_type": "code",
   "execution_count": 15,
   "metadata": {},
   "outputs": [],
   "source": [
    "# Build the clusters for all 4 matrix files\n",
    "clusters_id_ychr, labels_id_ychr = create_clusters(ychr_id_matrix_file, 'single')\n",
    "clusters_score_ychr, labels_score_ychr = create_clusters(ychr_score_matrix_file, 'single')\n",
    "clusters_id_mtdna, labels_id_mtdna = create_clusters(mtdna_id_matrix_file, 'single')\n",
    "clusters_score_mtdna, labels_score_mtdna = create_clusters(mtdna_score_matrix_file, 'single')"
   ]
  },
  {
   "cell_type": "code",
   "execution_count": 16,
   "metadata": {},
   "outputs": [
    {
     "data": {
      "image/png": "[encoded data removed]",
      "text/plain": [
       "<Figure size 432x288 with 1 Axes>"
      ]
     },
     "metadata": {
      "needs_background": "light"
     },
     "output_type": "display_data"
    }
   ],
   "source": [
    "# Create dendogram for the Y Chromosome identity matrix\n",
    "plt.title('Y Chromosome identity')\n",
    "dendrogram(clusters_id_ychr\n",
    "           , labels=labels_id_ychr\n",
    "           , orientation = 'left') # Setting orientation of the labels/tree\n",
    "\n",
    "plt.show() # Plotting the figure"
   ]
  },
  {
   "cell_type": "code",
   "execution_count": 17,
   "metadata": {},
   "outputs": [
    {
     "data": {
      "image/png": "[encoded data removed]",
      "text/plain": [
       "<Figure size 432x288 with 1 Axes>"
      ]
     },
     "metadata": {
      "needs_background": "light"
     },
     "output_type": "display_data"
    }
   ],
   "source": [
    "# Create dendogram for the Y Chromosome scoring matrix\n",
    "plt.title('Y Chromosome score')\n",
    "dendrogram(clusters_score_ychr\n",
    "           , labels=labels_score_ychr\n",
    "           , orientation = 'left')\n",
    "plt.show()"
   ]
  },
  {
   "cell_type": "code",
   "execution_count": 18,
   "metadata": {},
   "outputs": [
    {
     "data": {
      "image/png": "[encoded data removed]",
      "text/plain": [
       "<Figure size 432x288 with 1 Axes>"
      ]
     },
     "metadata": {
      "needs_background": "light"
     },
     "output_type": "display_data"
    }
   ],
   "source": [
    "# Create dendogram for the mtDNA identity matrix\n",
    "plt.title('mtDNA identity')\n",
    "dendrogram(clusters_id_mtdna\n",
    "            , labels=labels_id_mtdna\n",
    "            , orientation = 'left')\n",
    "plt.show()"
   ]
  },
  {
   "cell_type": "code",
   "execution_count": 19,
   "metadata": {},
   "outputs": [
    {
     "data": {
      "image/png": "[encoded data removed]",
      "text/plain": [
       "<Figure size 432x288 with 1 Axes>"
      ]
     },
     "metadata": {
      "needs_background": "light"
     },
     "output_type": "display_data"
    }
   ],
   "source": [
    "# Create dendogram for the mtDNA scoring matrix\n",
    "plt.title('mtDNA score')\n",
    "dendrogram(clusters_score_mtdna\n",
    "            , labels=labels_score_mtdna\n",
    "            , orientation = 'left')\n",
    "plt.show()"
   ]
  },
  {
   "cell_type": "markdown",
   "metadata": {},
   "source": [
    "## Analysis"
   ]
  }
 ],
 "metadata": {
  "colab": {
   "authorship_tag": "ABX9TyM/iXwLacG10xDcn9eYYHXA",
   "collapsed_sections": [],
   "name": "Running Exercise 3.ipynb",
   "provenance": []
  },
  "kernelspec": {
   "display_name": "Python 3",
   "language": "python",
   "name": "python3"
  },
  "language_info": {
   "codemirror_mode": {
    "name": "ipython",
    "version": 3
   },
   "file_extension": ".py",
   "mimetype": "text/x-python",
   "name": "python",
   "nbconvert_exporter": "python",
   "pygments_lexer": "ipython3",
   "version": "3.8.3"
  }
 },
 "nbformat": 4,
 "nbformat_minor": 1
}
