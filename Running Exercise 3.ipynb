{
 "cells": [
  {
   "cell_type": "markdown",
   "metadata": {
    "id": "_FNpjw5s4Xao"
   },
   "source": [
    "# Running Exercise 3: Solving the Anastasia Romanov mystery\n",
    "#### Ayala, J.; Vizitiu, M.; Öncel, P.\n",
    "#### Lund University, BINP16: Programming in Python (Created on: 27-10-2020)"
   ]
  },
  {
   "cell_type": "markdown",
   "metadata": {
    "id": "HCZfTY_u4Xar"
   },
   "source": [
    "## Introduction"
   ]
  },
  {
   "cell_type": "markdown",
   "metadata": {},
   "source": [
    "We are a team of researchers at Lund University, studying the genetic evidence regarding the House of Romanov, the reigning imperial house of Russia from 1613 to 1917, until the time when all members of the family were executed during the uprising of the Bolshevik revolution. The bodies of the Romanovs and their close relatives were discovered some ten years later by an amateur archaeologist. DNA evidence was collected from each one, as well as several other people who are involved in this sordid tale.\n",
    "\n",
    "We are tasked with analyzing all of the DNA evidence, and derive a conclusion about Anastasia Romanov, the youngest daughter of Tsar Nicholas II. Whether Anastasia Romanov is still alive, and if so, whether she is one of the women claiming to be her, or the discovered remains of Anastasia is actually the deceased princess herself.\n"
   ]
  },
  {
   "cell_type": "markdown",
   "metadata": {
    "id": "ULENHCeeYs9l"
   },
   "source": [
    "## Methodology"
   ]
  },
  {
   "cell_type": "markdown",
   "metadata": {
    "id": "aO0vFGd64Xba"
   },
   "source": [
    "### Part I: Calculate all sequence combinations identity and raw scores."
   ]
  },
  {
   "cell_type": "markdown",
   "metadata": {},
   "source": [
    "We began our analysis by looking at the collected DNA samples and performing multiple sequence alignments. We received two sets of DNA data to work with: (1) mtdna_orig.fasta: sequences of mitochondrial DNA that were used to establish maternal relationship between the samples, and (2) y_chromosome_orig.fasta: sequences of Y chromosome that were used to establish paternal relationship between the samples."
   ]
  },
  {
   "cell_type": "markdown",
   "metadata": {},
   "source": [
    "First, we include the necessary modules and relative paths"
   ]
  },
  {
   "cell_type": "code",
   "execution_count": 1,
   "metadata": {
    "id": "WUBlyMPD4XbY"
   },
   "outputs": [],
   "source": [
    "import os\n",
    "from scipy.cluster.hierarchy import dendrogram, linkage\n",
    "from matplotlib import pyplot as plt\n",
    "\n",
    "base_path = os.getcwd() + '/'\n",
    "\n",
    "weights_file = os.path.join(base_path, \"data/weights.txt\")\n",
    "mtdna_fasta = os.path.join(base_path, \"data/mtdna_orig.fasta\")\n",
    "ychr_fasta = os.path.join(base_path, \"data/y_chromosome_orig.fasta\")\n",
    "mtdna_scores_file = os.path.join(base_path, \"results/MSAmtdna.txt\")\n",
    "ychr_scores_file = os.path.join(base_path, \"results/MSAYchr.txt\")\n",
    "mtdna_id_matrix_file = os.path.join(base_path, \"results/output_id_mtdna.txt\")\n",
    "ychr_id_matrix_file = os.path.join(base_path, \"results/output_id_ychr.txt\")\n",
    "mtdna_score_matrix_file = os.path.join(base_path, \"results/output_score_mtdna.txt\")\n",
    "ychr_score_matrix_file = os.path.join(base_path, \"results/output_score_ychr.txt\")"
   ]
  },
  {
   "cell_type": "code",
   "execution_count": 2,
   "metadata": {},
   "outputs": [],
   "source": [
    "mtdna_contents = ''\n",
    "with open(mtdna_fasta, 'r') as mtdna_file:\n",
    "    mtdna_contents = mtdna_file.read()\n",
    "ychr_contents = ''\n",
    "with open(ychr_fasta, 'r') as ychr_file:\n",
    "    ychr_contents = ychr_file.read()"
   ]
  },
  {
   "cell_type": "markdown",
   "metadata": {},
   "source": [
    "We started by looking at the DNA samples in a pairwise fashion, calculating the identity and alignment scores for each aligned pair. At this step, our script contained two user-defined functions: (1)  score_alignment_identity(): a function that calculates the identity and alignment scores for a given pair of sequences (2) fasta_to_dict(): a function that converts a fasta file into a dictionary where the sequence IDs are stored as keys and the sequences are stored as values. The identity and alignment scores for each of the sequence pairs in the dictionary were written out two output files: (1) MSAmtdna.txt: containing the scores for the mitochondrial DNA samples  (2) MSAYchr.txt: containing the scores for the Y chromosomal samples.\n"
   ]
  },
  {
   "cell_type": "code",
   "execution_count": 3,
   "metadata": {
    "id": "evCe7a6h4Xa-"
   },
   "outputs": [],
   "source": [
    "def fasta_to_dict(fasta_file):\n",
    "    '''\n",
    "    this is a function to convert a fasta file into a dictionary\n",
    "    Arguments : fasta_file : file with fasta sequences, where the header delimiter is a tab\n",
    "    Returns : dictionary with sequence IDs as keys, and sequences as values\n",
    "    '''\n",
    "    sequences = {} # set up an empty dictionary to store sequence ID and sequence\n",
    "\n",
    "    # how to retrieve sequences from the fasta file\n",
    "    with open(fasta_file, 'r') as fasta:\n",
    "        for line in fasta:\n",
    "            if line.startswith('>'): # get ID and sequence and add to dictionary\n",
    "                header = line.strip()[1:]\n",
    "                sequences[header] = next(fasta).upper().strip()\n",
    "    return sequences"
   ]
  },
  {
   "cell_type": "code",
   "execution_count": 4,
   "metadata": {
    "id": "zvoesRKRYmxu",
    "scrolled": true
   },
   "outputs": [],
   "source": [
    "def score_alignment_identity(seq_1, seq_2, weights):\n",
    "    '''\n",
    "    this is a function to score an alignment of a pair of sequences\n",
    "    Arguments :  seq_1, seq_2 (str) : two aligned sequences including gaps\n",
    "                 weights (dict) : scores for reference\n",
    "    Returns : identity and alignment scores (tuple)\n",
    "    '''\n",
    "    nucleotides = ['A', 'T', 'G', 'C', '?', '-']      # list of all nucleotides\n",
    "    purines = ['A', 'G']                              # list of purine nucleotides\n",
    "    pyrimidines = ['T', 'C']                          # list of pyrimidine nucleotides\n",
    "\n",
    "    score = 0                                         # variable to store score\n",
    "    identical = 0                                     # variable to store identical nucleotides\n",
    "\n",
    "    # how to calculate pairwise alignment score\n",
    "    for i in range(len(seq_1)):\n",
    "        if (seq_1[i] == seq_2[i]):                    # when they are same\n",
    "            if (seq_1[i] == '-' or seq_1[i] == '?'):  # when they are gaps\n",
    "                pass\n",
    "            else:                                     # when its a match\n",
    "                score += weights['match']\n",
    "                identical += 1\n",
    "        elif (seq_1[i] in purines and seq_2[i] in purines) or (seq_1[i] in pyrimidines and seq_2[i] in pyrimidines):\n",
    "            score += weights['transition']            # when its a transition\n",
    "        elif (seq_1[i] == '-' or seq_2[i] == '-'):    # when theres a gap\n",
    "            score += weights['gap']\n",
    "        elif (seq_1[i] == '?' or seq_2[i] == '?'):    # when one is unknown\n",
    "            pass\n",
    "        else:                                         # when its a transversion\n",
    "            score += weights['transversion']\n",
    "    # how to calculate pairwise identity score\n",
    "    identity = round(100 * identical / len(seq_1), 1) # divide nr of identical by length\n",
    "    return identity, score                            # return score and identity as a tuple"
   ]
  },
  {
   "cell_type": "code",
   "execution_count": 5,
   "metadata": {
    "id": "lgOTP1Zp4Xbb",
    "outputId": "9778b559-a9ce-41f2-cc0c-14302dad9b89"
   },
   "outputs": [
    {
     "name": "stdout",
     "output_type": "stream",
     "text": [
      "{'match': 1, 'transition': -1, 'transversion': -2, 'gap': -1}\n"
     ]
    }
   ],
   "source": [
    "# Dictionary for weights file\n",
    "weights = {}  # set up an empty dictionary to store weight type and value\n",
    "with open(weights_file, 'r') as weight_file: # Open a weights file and\n",
    "    for line in weight_file:\n",
    "        line = line.split()\n",
    "        weights[line[0]] = int(line[1]) # add weight type and values to dictionary\n",
    "print(weights)"
   ]
  },
  {
   "cell_type": "code",
   "execution_count": 6,
   "metadata": {
    "id": "mNzGVCHB4Xbg"
   },
   "outputs": [],
   "source": [
    "# Converting fasta files to dictionaries\n",
    "fasta_dict_mtdna = fasta_to_dict(mtdna_fasta)\n",
    "fasta_dict_ychr = fasta_to_dict(ychr_fasta)"
   ]
  },
  {
   "cell_type": "markdown",
   "metadata": {
    "id": "1BHK5ogj4Xbn"
   },
   "source": [
    "#### Calculating scores\n",
    "Once both files are in a dictionary format, the identity and scores are calculated for all pairs of sequences, and written to a file."
   ]
  },
  {
   "cell_type": "code",
   "execution_count": 7,
   "metadata": {
    "id": "ZQL-jkMi4Xbn"
   },
   "outputs": [],
   "source": [
    "# mtDNA file\n",
    "with open(mtdna_scores_file, 'w') as output_file:\n",
    "    output_file.write('SmpA\\tSmpB\\tId_s\\tAl_s\\n')               # write out header row\n",
    "    for i, (key_1, seq_1) in enumerate(fasta_dict_mtdna.items()):     # get ID and seq from dictionary\n",
    "        for j, (key_2, seq_2) in enumerate(fasta_dict_mtdna.items()): # get ID and seq from dictionary\n",
    "            if i < j:                                           # compare two non-repeating sequences\n",
    "                iden, score_seq = score_alignment_identity(seq_1, seq_2, weights) # get identity and alignment scores\n",
    "                output_file.write('{}\\t{}\\t{}%\\t{}\\n'.format(key_1, key_2, iden, score_seq)) # write out data\n",
    "# Y chromosome file\n",
    "with open(ychr_scores_file, 'w') as output_file:\n",
    "    output_file.write('SmpA\\tSmpB\\tId_s\\tAl_s\\n')               # write out header row\n",
    "    for i, (key_1, seq_1) in enumerate(fasta_dict_ychr.items()):     # get ID and seq from dictionary\n",
    "        for j, (key_2, seq_2) in enumerate(fasta_dict_ychr.items()): # get ID and seq from dictionary\n",
    "            if i < j:                                           # compare two non-repeating sequences\n",
    "                iden, score_seq = score_alignment_identity(seq_1, seq_2, weights) # get identity and alignment scores\n",
    "                output_file.write('{}\\t{}\\t{}%\\t{}\\n'.format(key_1, key_2, iden, score_seq)) # write out data"
   ]
  },
  {
   "cell_type": "markdown",
   "metadata": {
    "id": "IFTCaEub4Xbp"
   },
   "source": [
    "### Part 2: Generating similarity matrices"
   ]
  },
  {
   "cell_type": "markdown",
   "metadata": {
    "id": "jl_6bEq15RJh"
   },
   "source": [
    "The second part of our analysis consists of building similarity matrices based on pairwise alignment scores and percentages of identity between all of the DNA sequences involved. These scores were obtained during the first part of the analysis and stored in two .txt files: MSAmtdna.txt and MSAYchr.txt, containing the results for the alignment of the mtDNA fragments and the Y chromosome fragments respectively.\n",
    "\n",
    "We designed a Python script capable of using the previously mentioned input files in order to write files containing scoring matrices for both the alignment scores and the identity percentages.  The identity percentages are kept as they are in the matrices as a result of the fact that they range between 0- 100% and are easy to interpret. The alignment scores were normalized and converted to values ranging from 0 to 100, where 100 is the normalized score for the highest scoring alignment of sequences. "
   ]
  },
  {
   "cell_type": "markdown",
   "metadata": {},
   "source": [
    "This part of the analysis consisted of the following steps:"
   ]
  },
  {
   "cell_type": "markdown",
   "metadata": {},
   "source": [
    "1. Defining a function that converts the data in the input file (i. e. scores and percentages of identity of pairwise sequence alignments) into similarity matrices in the form of nested dictionaries. The keys of the main dictionary consist of the IDs of all of the DNA sequences analyzed. Nested dictionaries are assigned as values to these keys and contain the IDs of the sequences being compared to the key of the main dictionary, as well as the scores of the comparisons.\n",
    "The main dictionary is redundant, in the sense that it contains each pairwise alignment twice, but this was done in order to generate a full matrix, where all of the sequence IDs are present both in the header row, as well as in the first column of the matrix.\n",
    "2. Inside this same function, the alignment scores are normalized in order for the resulting matrices to become easier to interpret. The way this conversion is achieved is by adding the absolute value of the lowest alignment score to all of the scores (the lowest score now becomes equal to 0) and then dividing all scores by the highest value. By multiplying all normalized scores by 100, this generates a range of alignment scores from 0 to 100, where 100 is assigned to the highest scoring sequences. The diagonal of the matrix (i. e. where sequences are compared against themselves) is scored arbitrarily with 100.\n"
   ]
  },
  {
   "cell_type": "code",
   "execution_count": 8,
   "metadata": {},
   "outputs": [],
   "source": [
    "def msa_to_dict(input_file):    #Function that stores data from the input file into a nested dictionary\n",
    "    msa_matrix_identity = {}    #Matrix (dictionary of dictionaries) of identity percentages\n",
    "    msa_matrix_score = {}       #Matrix (dictionary of dictionaries) of alignment scores\n",
    "    list_of_scores = []         #List of all the alignment scores\n",
    "    with open(input_file, 'r') as msa_file: #Read the input file\n",
    "        header = next(msa_file) #Read the header (we do not need the information in the header)\n",
    "        for line in msa_file:   #Read every line in the input file\n",
    "            line = line.rstrip().split('\\t') # Split the line by its columns and remove new line character\n",
    "            if line[0] not in msa_matrix_identity: # If the ID does not exist in the dictionary\n",
    "                msa_matrix_identity[line[0]] = {line[0]: '100'} #Add it with an identity percentage of 100 (when sequence is compared against itself)\n",
    "                msa_matrix_score[line[0]] = {line[0]: '-'} #Add it without a score (\"-\") (when compared against itself)\n",
    "#We add the IDs in the second column of each line to the same dictionary so that the output will be a full, symmetrical matrix. The steps are identical to the ones above\n",
    "            if line[1] not in msa_matrix_identity: \n",
    "                msa_matrix_identity[line[1]] = {line[1]: '100'}\n",
    "                msa_matrix_score[line[1]] = {line[1]: '-'}\n",
    "# The identity percentages and the alignment scores are then added to the corresponding dictionaries of dictionaries as values in the nested dictionaries\n",
    "            msa_matrix_identity[line[0]][line[1]] = line[2].replace('%', '')\n",
    "            msa_matrix_identity[line[1]][line[0]] = line[2].replace('%', '')\n",
    "            msa_matrix_score[line[0]][line[1]] = line[3]\n",
    "            msa_matrix_score[line[1]][line[0]] = line[3]\n",
    "            list_of_scores.append(int(line[3])) #Add the alignment scores to a list\n",
    "#Normalizing the values of the alignment scores to add them to the matrix\n",
    "    min_val = min(list_of_scores)   #Find the smallest alignment score\n",
    "    max_val = max(list_of_scores)   #Find the largest alignment score\n",
    "    for key1 in msa_matrix_score:   #Iterate through all the sequence IDs\n",
    "        for key2 in msa_matrix_score[key1]: #Iterate through all the nested dictionaries\n",
    "            if msa_matrix_score[key1][key2] != '-': #If a sequence is not compared with itself\n",
    "                current_value = float(msa_matrix_score[key1][key2]) #Normalize the score value...\n",
    "                msa_matrix_score[key1][key2] = round(100*(current_value + abs(min_val))/(max_val + abs(min_val)), 1)    #...by adding the absolute value of the smallest score to all scores and then dividing by the largest value. The result is multiplied by 100 to be easier to read as a percentage\n",
    "            else:   #When the sequence is compared with itself\n",
    "                msa_matrix_score[key1][key2] = 100  #Set the alignment score to 100\n",
    "    return msa_matrix_identity, msa_matrix_score"
   ]
  },
  {
   "cell_type": "markdown",
   "metadata": {},
   "source": [
    "3. Another function was defined, that prints the resulting matrices to separate output files (one for normalized scores and one for percentage of identity), in the desired format. The sequence IDs and the values in the matrix are tab separated; two matrices are generated for every input file. A third function was created to get the most similar sequence to a specific name (Though it's not used in this report)"
   ]
  },
  {
   "cell_type": "code",
   "execution_count": 9,
   "metadata": {
    "id": "9Foz-5VQ4XbL"
   },
   "outputs": [],
   "source": [
    "def make_matrix_file(msa_matrix, output_file):\n",
    "#Function that writes the matrices to the output files\n",
    "    with open(output_file, 'w') as output_matrix:   #Open the output file for writing\n",
    "        header = sorted(msa_matrix.keys())  #The first line consists of all the sequence IDs (sorted)\n",
    "        header_str = '\\t' + '\\t'.join(header)   #Separate the IDs by tab in the header\n",
    "        output_matrix.write(header_str + '\\n')  #Write the header to the output file\n",
    "        for key1 in sorted(msa_matrix.keys()):  #Iterate through all the sorted sequence IDs\n",
    "            output_matrix.write(key1)           #Write one ID at a time to the output file\n",
    "            for key2 in sorted(msa_matrix[key1]):\n",
    "                output_matrix.write('\\t' + str(msa_matrix[key1][key2])) #Followed by all of the alignment scores between that ID and the other ones, separated by tab\n",
    "            output_matrix.write('\\n')           #Add a new line"
   ]
  },
  {
   "cell_type": "code",
   "execution_count": 10,
   "metadata": {
    "id": "vSkfXWmL4XbP"
   },
   "outputs": [],
   "source": [
    "def get_most_similar(msa_dict, name):           #Function for finding the most similar sequence to a specific sequence\n",
    "    max_value = 0                               #Variable that stores the value of the largest alignment score\n",
    "    max_key = ''                                #Variable that stores the sequence ID corresponding to the largest alignment score\n",
    "    for key in msa_dict[name].keys():           #Iterate through all the sequence IDs\n",
    "        if key != name:                         #Exclude the case of a sequence being compared with itself\n",
    "            if float(msa_dict[name][key]) > max_value:  #If an alignment score is larger than the current largest one being stored in the variable\n",
    "                max_value = float(msa_dict[name][key])  #Store the new score as the largest\n",
    "                max_key = key                   #Store the corresponding sequence ID\n",
    "    return max_key, max_value"
   ]
  },
  {
   "cell_type": "markdown",
   "metadata": {},
   "source": [
    "4. For the purpose of our analysis, all functions are called twice, once for the mtDNA alignments, and once for the Y chromosome alignments, resulting in four total scoring matrices."
   ]
  },
  {
   "cell_type": "code",
   "execution_count": 11,
   "metadata": {
    "id": "hpTQkesV4Xbq"
   },
   "outputs": [],
   "source": [
    "identity_mtdna, score_mtdna = msa_to_dict(mtdna_scores_file)  #Calling the function for the input file; two matrices are returned\n",
    "identity_ychr, score_ychr = msa_to_dict(ychr_scores_file)"
   ]
  },
  {
   "cell_type": "code",
   "execution_count": 12,
   "metadata": {
    "id": "6G-I0qo94Xbr"
   },
   "outputs": [],
   "source": [
    "make_matrix_file(identity_mtdna, mtdna_id_matrix_file)         #Write the percentage identity matrix to one output file by calling the proper function\n",
    "make_matrix_file(score_mtdna, mtdna_score_matrix_file)            #Write the normalized score matrix to another output file by calling the proper function\n",
    "make_matrix_file(identity_ychr, ychr_id_matrix_file)\n",
    "make_matrix_file(score_ychr, ychr_score_matrix_file)"
   ]
  },
  {
   "cell_type": "markdown",
   "metadata": {
    "id": "b1sxmOSX4Xbt"
   },
   "source": [
    "### Part 3: Building the hierarchical clusters and dendograms"
   ]
  },
  {
   "cell_type": "markdown",
   "metadata": {},
   "source": [
    "Once we created the similarity matrix, we built  hierarchical clusters using the linkage function from  the scipy.cluster.hierarchy module. This function performs agglomerative clustering given a 2d array of observations. In this case, each vector would be the list of normalized or identity scores. A function would parse the matrix file, separating the data from the labels (i.e. the sequence ids), and then apply the linkage function. We used default settings for the linkage function, using the ‘single’ method (Nearest point algorithm) and euclidean metric. Our function receives a path, and returns the labels and the clustering arrays."
   ]
  },
  {
   "cell_type": "code",
   "execution_count": 13,
   "metadata": {
    "id": "P_3LWv8E4XbT"
   },
   "outputs": [],
   "source": [
    "def create_clusters(input_file, cluster_method = 'single'):\n",
    "    '''\n",
    "    Function to create a hierarchical cluster, given a matrix file. Returns an\n",
    "    array with the relationships between sequences.\n",
    "    Arguments:\n",
    "        input_file: Similarity matrix in a tab delimited file.\n",
    "        cluster_method: Method used for the linkage function.\n",
    "    Returns:\n",
    "        clusters: Array with the scores of relationships among sequences.\n",
    "        labels: List of labels of the matrix file.\n",
    "    '''\n",
    "    #Initializing variables for the parsing of the file.\n",
    "    data = []\n",
    "    labels = []\n",
    "    with open(input_file, 'r') as matrix_file:\n",
    "        header = next(matrix_file)\n",
    "        for line in matrix_file:\n",
    "            line = line.strip().split()\n",
    "            labels.append(line[0])  # first column is added to the labels\n",
    "            row = []\n",
    "            for i in range(1, len(line)):\n",
    "                row.append(float(line[i]))  #The rest of columns are converted to float and added to the data\n",
    "            data.append(row)\n",
    "    # The linkage function is used to create the hierarchical cluster of the given data.\n",
    "    clusters = linkage(data, method = cluster_method)\n",
    "    return clusters, labels"
   ]
  },
  {
   "cell_type": "markdown",
   "metadata": {},
   "source": [
    "Then, this function is called 4 times, for the identity and normalized scores of the mtDNA and Y chromosomes respectively"
   ]
  },
  {
   "cell_type": "code",
   "execution_count": 14,
   "metadata": {
    "id": "uwPs57RC4Xbt"
   },
   "outputs": [],
   "source": [
    "# Build the clusters for all 4 matrix files\n",
    "clusters_id_ychr, labels_id_ychr = create_clusters(ychr_id_matrix_file, 'single')\n",
    "clusters_score_ychr, labels_score_ychr = create_clusters(ychr_score_matrix_file, 'single')\n",
    "clusters_id_mtdna, labels_id_mtdna = create_clusters(mtdna_id_matrix_file, 'single')\n",
    "clusters_score_mtdna, labels_score_mtdna = create_clusters(mtdna_score_matrix_file, 'single')"
   ]
  },
  {
   "cell_type": "markdown",
   "metadata": {},
   "source": [
    "Finally, we plotted the clusters for each case using the dendrogram function. In the original script, all dendrograms are added as subplots of one figure. However, this report includes them as individual plots for readability purposes. "
   ]
  },
  {
   "cell_type": "code",
   "execution_count": 15,
   "metadata": {
    "id": "iDKjrZLk4Xbw",
    "outputId": "bf3279a6-a574-47c5-cd58-2e0a56dd7435"
   },
   "outputs": [
    {
     "data": {
      "image/png": "[encoded data removed]",
      "text/plain": [
       "<Figure size 432x288 with 1 Axes>"
      ]
     },
     "metadata": {
      "needs_background": "light"
     },
     "output_type": "display_data"
    }
   ],
   "source": [
    "# Create dendogram for the Y Chromosome identity matrix\n",
    "plt.title('Fig. 1: Y Chromosome identity dendrogram')\n",
    "dendrogram(clusters_id_ychr\n",
    "           , labels = labels_id_ychr\n",
    "           , orientation = 'left') # Setting orientation of the labels/tree\n",
    "\n",
    "plt.show() # Plotting the figure"
   ]
  },
  {
   "cell_type": "code",
   "execution_count": 16,
   "metadata": {
    "id": "C925YUsS4Xby",
    "outputId": "9965e36b-a5ab-4768-d973-9e84a197b375"
   },
   "outputs": [
    {
     "data": {
      "image/png": "[encoded data removed]",
      "text/plain": [
       "<Figure size 432x288 with 1 Axes>"
      ]
     },
     "metadata": {
      "needs_background": "light"
     },
     "output_type": "display_data"
    }
   ],
   "source": [
    "# Create dendogram for the Y Chromosome scoring matrix\n",
    "plt.title('Fig. 2: Y Chromosome score dendrogram')\n",
    "dendrogram(clusters_score_ychr\n",
    "           , labels = labels_score_ychr\n",
    "           , orientation = 'left')\n",
    "plt.show()"
   ]
  },
  {
   "cell_type": "code",
   "execution_count": 17,
   "metadata": {
    "id": "FU4jAeQQ4Xb0",
    "outputId": "819136fb-c58e-4a58-bdc7-439fdd4097ef"
   },
   "outputs": [
    {
     "data": {
      "image/png": "[encoded data removed]",
      "text/plain": [
       "<Figure size 432x288 with 1 Axes>"
      ]
     },
     "metadata": {
      "needs_background": "light"
     },
     "output_type": "display_data"
    }
   ],
   "source": [
    "# Create dendogram for the mtDNA identity matrix\n",
    "plt.title('Fig. 3: mtDNA identity dendrogram')\n",
    "dendrogram(clusters_id_mtdna\n",
    "            , labels = labels_id_mtdna\n",
    "            , orientation = 'left')\n",
    "plt.show()"
   ]
  },
  {
   "cell_type": "code",
   "execution_count": 18,
   "metadata": {
    "id": "hJf-wrgD4Xb2",
    "outputId": "59d80a09-b255-4022-a525-9d8a84fd90a9"
   },
   "outputs": [
    {
     "data": {
      "image/png": "[encoded data removed]",
      "text/plain": [
       "<Figure size 432x288 with 1 Axes>"
      ]
     },
     "metadata": {
      "needs_background": "light"
     },
     "output_type": "display_data"
    }
   ],
   "source": [
    "# Create dendogram for the mtDNA scoring matrix\n",
    "plt.title('Fig. 4: mtDNA score dendrogram')\n",
    "dendrogram(clusters_score_mtdna\n",
    "            , labels = labels_score_mtdna\n",
    "            , orientation = 'left')\n",
    "plt.show()"
   ]
  },
  {
   "cell_type": "markdown",
   "metadata": {
    "id": "x4YAo2Ak4Xb4"
   },
   "source": [
    "## Analysis"
   ]
  },
  {
   "cell_type": "markdown",
   "metadata": {},
   "source": [
    "The analysis of the Y chromosome sequences reveals that the farmer’s grandson is very closely related paternally to Grigori Rasputin, the two sequences having an identity percentage of 75% and being by far the most similar sequences in the Y chromosome analysis. The testimonies take note of the grandson’s and Rasputin’s close physical resemblance. Moreover, the farmer’s daughter appears to be extremely distressed when Rasputin’s name is mentioned. Therefore, we conclude that Grigori Rasputin is in fact the father of the farmer’s grandson.\n"
   ]
  },
  {
   "cell_type": "code",
   "execution_count": 19,
   "metadata": {
    "scrolled": true
   },
   "outputs": [
    {
     "data": {
      "text/plain": [
       "('Grigori_Rasputin_Y', 75.0)"
      ]
     },
     "execution_count": 19,
     "metadata": {},
     "output_type": "execute_result"
    }
   ],
   "source": [
    "get_most_similar(identity_ychr, \"Farmer’s_grandson_Y\")"
   ]
  },
  {
   "cell_type": "markdown",
   "metadata": {},
   "source": [
    "The analysis of the mitochondrial DNA alignments and the corresponding dendrogram showed a strong degree of similarity between Anastasia 4’s son and the suspected body of Anastasia Romanov, as shown in fig. 3 and 4. Provided that the real Anastasia Romanov is still alive, the suspected body does not belong to her. More research needs to be done, but our results tend to suggest that Anastasia 4 planted evidence that would be closely related to her son (perhaps even her own DNA, in which case her reticence to provide a DNA sample can be explained) to bias the analysis towards proving that she is the real Anastasia Romanov.\n"
   ]
  },
  {
   "cell_type": "code",
   "execution_count": 20,
   "metadata": {
    "scrolled": true
   },
   "outputs": [
    {
     "data": {
      "text/plain": [
       "('Suspected_Anastasia', 69.2)"
      ]
     },
     "execution_count": 20,
     "metadata": {},
     "output_type": "execute_result"
    }
   ],
   "source": [
    "get_most_similar(identity_mtdna, \"Anastasia4_son\")"
   ]
  },
  {
   "cell_type": "markdown",
   "metadata": {},
   "source": [
    "It is also worth noting that the resulting dendrograms contain multiple false positive and negative results. For instance, Nicholas II Romanov and his son, Alexei, appear to not be closely related based on the Y chromosome analysis. It is extremely likely that this is the case because of the poor quality of some of the DNA sequences."
   ]
  },
  {
   "cell_type": "code",
   "execution_count": 21,
   "metadata": {
    "scrolled": true
   },
   "outputs": [
    {
     "name": "stdout",
     "output_type": "stream",
     "text": [
      "Nicholas_II_Romanov\n",
      " -----GGGG-----AAA---------\n",
      "Alexei_Romanov\n",
      " ACC???AGCTAGCT----TAGCTTTT\n"
     ]
    }
   ],
   "source": [
    "print('Nicholas_II_Romanov\\n', fasta_dict_mtdna['Nicholas_II_Romanov'])\n",
    "print('Alexei_Romanov\\n', fasta_dict_mtdna['Alexei_Romanov'])"
   ]
  },
  {
   "cell_type": "markdown",
   "metadata": {},
   "source": [
    "The highlight of our analysis is represented by our conclusions regarding the fate of the real Anastasia Romanov. Our mtDNA dendrograms reveal the positioning of the farmer’s grandson in the same cluster as members of the royal family (fig. 3 and fig. 4). Most notably, the farmer’s grandson is closely related to good quality mtDNA samples (i.e. those of Princess Irene and Prince Fred); due to the poor quality of the samples prelevated from the deceased royal family members, false positive and false negative results are common. Considering that the farmer’s grandson is maternally related to the royal family, we infer that his mother, the farmer’s daughter, is related to the royal family as well. Moreover, our overall conclusion, based on the data that was available to us, is that the farmer’s daughter is in fact the real Anastasia Romanov.\n",
    "\n",
    "To answer the question of what happened to the real Anastasia, the farmer’s testimony reveals that each member of the royal family was shot once in order to be executed. However, one shot is not guaranteed to be fatal and Anastasia was harmed, but not killed. The farmer admits to having been paid to dispose of the bodies, and, because Anastasia was still alive, he took her in and raised her in secret as his own daughter.\n",
    "One challenge that we encountered in formulating our conclusion is the mismatch of the farmer’s daughter age and physical characteristics to those of the supposed real Anastasia Romanov. The farmer’s daughter is 36, older than the real Anastasia is believed to be. Moreover the eye and hair color do not match. These issues were addressed in a plausible manner by Anastasia 5, who mentioned that an explanation for a different age is a mistake in the birth certificate; she also explains the difference in eye and hair color as an aesthetic choice of the painters of the royal family portraits. As a result, we conclude that the farmer’s daughter is the most plausible candidate to be the real Anastasia Romanov.\n"
   ]
  }
 ],
 "metadata": {
  "colab": {
   "collapsed_sections": [],
   "name": "Running Exercise 3.ipynb",
   "provenance": []
  },
  "kernelspec": {
   "display_name": "Python 3",
   "language": "python",
   "name": "python3"
  },
  "language_info": {
   "codemirror_mode": {
    "name": "ipython",
    "version": 3
   },
   "file_extension": ".py",
   "mimetype": "text/x-python",
   "name": "python",
   "nbconvert_exporter": "python",
   "pygments_lexer": "ipython3",
   "version": "3.8.3"
  }
 },
 "nbformat": 4,
 "nbformat_minor": 1
}
